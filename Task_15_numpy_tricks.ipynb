{
  "nbformat": 4,
  "nbformat_minor": 0,
  "metadata": {
    "colab": {
      "provenance": [],
      "include_colab_link": true
    },
    "kernelspec": {
      "name": "python3",
      "display_name": "Python 3"
    },
    "language_info": {
      "name": "python"
    }
  },
  "cells": [
    {
      "cell_type": "markdown",
      "metadata": {
        "id": "view-in-github",
        "colab_type": "text"
      },
      "source": [
        "<a href=\"https://colab.research.google.com/github/ripro805/Campusx-DS-Mentorship/blob/main/Task_15_numpy_tricks.ipynb\" target=\"_parent\"><img src=\"https://colab.research.google.com/assets/colab-badge.svg\" alt=\"Open In Colab\"/></a>"
      ]
    },
    {
      "cell_type": "markdown",
      "source": [
        "###`Q-1:` Create a random 3x4 matrix with value between 0-100. And perform below tasks\n",
        "\n",
        "    i. Sort this matrix. np.sort()\n",
        "    ii. Sort this matrix based on values in 2nd column.\n",
        "    iii. Sort this matrix based on max value in each row.\n",
        "    iv. Sort based on elements value.\n"
      ],
      "metadata": {
        "id": "J88qfqQEk_sT"
      }
    },
    {
      "cell_type": "markdown",
      "source": [
        "See examples:\n",
        "```\n",
        "arr =\n",
        "    [[92 90 74]\n",
        "    [ 6 63 93]\n",
        "    [15 93 96]\n",
        "    [70 60 48]]\n",
        "```\n",
        "```\n",
        "i. np.sort\n",
        "[[74 90 92]\n",
        " [ 6 63 93]\n",
        " [15 93 96]\n",
        " [48 60 70]]\n",
        "\n",
        "ii. based on 2nd column\n",
        "[[70 60 48]\n",
        " [ 6 63 93]\n",
        " [92 90 74]\n",
        " [15 93 96]]\n",
        "\n",
        "iii. based on row max- ascending\n",
        "[[15 93 96]\n",
        " [ 6 63 93]\n",
        " [92 90 74]\n",
        " [70 60 48]]\n",
        "\n",
        "iv. based on elements value\n",
        "[[ 6 15 48]\n",
        " [60 63 70]\n",
        " [74 90 92]\n",
        " [93 93 96]]\n",
        "\n",
        "```"
      ],
      "metadata": {
        "id": "xpOwOdhqlE9R"
      }
    },
    {
      "cell_type": "code",
      "source": [
        "# code here\n",
        "import numpy as np\n",
        "np.random.seed(0 )\n",
        "arr=np.random.randint(0,101,size=(4,3))\n",
        "arr"
      ],
      "metadata": {
        "id": "Auy-guUwlALv",
        "colab": {
          "base_uri": "https://localhost:8080/"
        },
        "outputId": "a444b74d-f0d6-4cf3-e999-705e5a22938e"
      },
      "execution_count": 15,
      "outputs": [
        {
          "output_type": "execute_result",
          "data": {
            "text/plain": [
              "array([[44, 47, 64],\n",
              "       [67, 67,  9],\n",
              "       [83, 21, 36],\n",
              "       [87, 70, 88]])"
            ]
          },
          "metadata": {},
          "execution_count": 15
        }
      ]
    },
    {
      "cell_type": "code",
      "source": [
        "np.sort(arr)"
      ],
      "metadata": {
        "colab": {
          "base_uri": "https://localhost:8080/"
        },
        "id": "56VXQAHXguOQ",
        "outputId": "0844e1da-c6f6-42c9-f3f0-8c40dbf3e61d"
      },
      "execution_count": 16,
      "outputs": [
        {
          "output_type": "execute_result",
          "data": {
            "text/plain": [
              "array([[44, 47, 64],\n",
              "       [ 9, 67, 67],\n",
              "       [21, 36, 83],\n",
              "       [70, 87, 88]])"
            ]
          },
          "metadata": {},
          "execution_count": 16
        }
      ]
    },
    {
      "cell_type": "code",
      "source": [
        "based_on_2nd_column=arr[arr[:,1].argsort()]\n",
        "based_on_2nd_column"
      ],
      "metadata": {
        "colab": {
          "base_uri": "https://localhost:8080/"
        },
        "id": "qqjsVTWLhdlh",
        "outputId": "7efdd280-3be7-42f5-a4fa-8e814427eb9c"
      },
      "execution_count": 17,
      "outputs": [
        {
          "output_type": "execute_result",
          "data": {
            "text/plain": [
              "array([[83, 21, 36],\n",
              "       [44, 47, 64],\n",
              "       [67, 67,  9],\n",
              "       [87, 70, 88]])"
            ]
          },
          "metadata": {},
          "execution_count": 17
        }
      ]
    },
    {
      "cell_type": "code",
      "source": [
        "row_max=arr[arr.max(axis=1).argsort()]\n",
        "row_max"
      ],
      "metadata": {
        "colab": {
          "base_uri": "https://localhost:8080/"
        },
        "id": "MPWOr_H1hpLW",
        "outputId": "bf85ecf0-db76-49c1-cda3-5844949ebb39"
      },
      "execution_count": 18,
      "outputs": [
        {
          "output_type": "execute_result",
          "data": {
            "text/plain": [
              "array([[44, 47, 64],\n",
              "       [67, 67,  9],\n",
              "       [83, 21, 36],\n",
              "       [87, 70, 88]])"
            ]
          },
          "metadata": {},
          "execution_count": 18
        }
      ]
    },
    {
      "cell_type": "code",
      "source": [
        "el=np.sort(arr, axis=None).reshape(arr.shape)\n",
        "el"
      ],
      "metadata": {
        "colab": {
          "base_uri": "https://localhost:8080/"
        },
        "id": "5R9f1q5Fk15H",
        "outputId": "f758a3ae-7ab3-4d55-ed00-51eb69786f9b"
      },
      "execution_count": 19,
      "outputs": [
        {
          "output_type": "execute_result",
          "data": {
            "text/plain": [
              "array([[ 9, 21, 36],\n",
              "       [44, 47, 64],\n",
              "       [67, 67, 70],\n",
              "       [83, 87, 88]])"
            ]
          },
          "metadata": {},
          "execution_count": 19
        }
      ]
    },
    {
      "cell_type": "markdown",
      "source": [
        "###`Q-2:` There is an array of marks of 5 students in 4 subjects. Further you are asked to perform below task.\n",
        "    i. Add marks every student of an extra subject in the same array.\n",
        "    ii. Add two new students marks in respective 5 subjects.(one subject added in above task)\n",
        "    iii. Add extra column with sum of all subjects(5-subjects) marks\n",
        "    iv. Sort the array(non-ascending order) on total marks column--one added in above task. Show top 2 rows.\n",
        "\n",
        "Note: Change dimension of arrays during concatenation or appending if required."
      ],
      "metadata": {
        "id": "Jx_I3gx9lBay"
      }
    },
    {
      "cell_type": "markdown",
      "source": [
        "Given Array-\n",
        "```\n",
        "marks = [[13, 10,  9, 33],\n",
        "       [63, 46, 90, 42],\n",
        "       [39, 76, 13, 29],\n",
        "       [82,  9, 29, 78],\n",
        "       [67, 61, 59, 36]]\n",
        "\n",
        "extra_subject = [41, 87, 72, 36, 92]\n",
        "#Two extra students record-\n",
        "rec1 = [77, 83, 98, 95, 89]\n",
        "rec2 = [92, 71, 52, 61, 53]\n",
        "```"
      ],
      "metadata": {
        "id": "lXF-CE6ylNIw"
      }
    },
    {
      "cell_type": "code",
      "source": [
        "# code here\n",
        "import numpy as np\n",
        "\n",
        "# Given data\n",
        "marks = np.array([[13, 10,  9, 33],\n",
        "                  [63, 46, 90, 42],\n",
        "                  [39, 76, 13, 29],\n",
        "                  [82,  9, 29, 78],\n",
        "                  [67, 61, 59, 36]])\n",
        "\n",
        "extra_subject = np.array([41, 87, 72, 36, 92])\n",
        "\n",
        "# Step i: Add marks of extra subject to existing students\n",
        "marks = np.hstack((marks, extra_subject.reshape(-1, 1)))\n",
        "print(\"After adding extra subject:\\n\", marks)\n",
        "\n",
        "# Step ii: Add two new students (5 subjects now)\n",
        "rec1 = np.array([77, 83, 98, 95, 89])\n",
        "rec2 = np.array([92, 71, 52, 61, 53])\n",
        "marks = np.vstack((marks, rec1, rec2))\n",
        "print(\"\\nAfter adding two new students:\\n\", marks)\n",
        "\n",
        "# Step iii: Add extra column with sum of all subjects\n",
        "total_marks = marks.sum(axis=1).reshape(-1, 1)\n",
        "marks_with_total = np.hstack((marks, total_marks))\n",
        "print(\"\\nAfter adding total marks column:\\n\", marks_with_total)\n",
        "\n",
        "# Step iv: Sort array by total marks column (non-ascending) and show top 2 rows\n",
        "sorted_marks = marks_with_total[marks_with_total[:, -1].argsort()[::-1]]\n",
        "top2 = sorted_marks[:2]\n",
        "print(\"\\nTop 2 students based on total marks:\\n\", top2)\n"
      ],
      "metadata": {
        "id": "7YKsWO2olMkq",
        "colab": {
          "base_uri": "https://localhost:8080/"
        },
        "outputId": "33c36a16-78f9-469d-b1b8-3f5490d9531c"
      },
      "execution_count": 21,
      "outputs": [
        {
          "output_type": "stream",
          "name": "stdout",
          "text": [
            "After adding extra subject:\n",
            " [[13 10  9 33 41]\n",
            " [63 46 90 42 87]\n",
            " [39 76 13 29 72]\n",
            " [82  9 29 78 36]\n",
            " [67 61 59 36 92]]\n",
            "\n",
            "After adding two new students:\n",
            " [[13 10  9 33 41]\n",
            " [63 46 90 42 87]\n",
            " [39 76 13 29 72]\n",
            " [82  9 29 78 36]\n",
            " [67 61 59 36 92]\n",
            " [77 83 98 95 89]\n",
            " [92 71 52 61 53]]\n",
            "\n",
            "After adding total marks column:\n",
            " [[ 13  10   9  33  41 106]\n",
            " [ 63  46  90  42  87 328]\n",
            " [ 39  76  13  29  72 229]\n",
            " [ 82   9  29  78  36 234]\n",
            " [ 67  61  59  36  92 315]\n",
            " [ 77  83  98  95  89 442]\n",
            " [ 92  71  52  61  53 329]]\n",
            "\n",
            "Top 2 students based on total marks:\n",
            " [[ 77  83  98  95  89 442]\n",
            " [ 92  71  52  61  53 329]]\n"
          ]
        }
      ]
    },
    {
      "cell_type": "markdown",
      "source": [
        "###`Q-3:` Find unique arrays from a 2D array column wise and row wise.\n",
        "```\n",
        "arr = np.array([[1,2,3,3,1,1],\n",
        "                [0,9,1,2,8,8],\n",
        "                [1,2,3,8,8,8],\n",
        "                [1,2,3,3,1,1]])\n",
        "```\n",
        "Expected Result-\n",
        "```\n",
        "Row Wise\n",
        "[[0 9 1 2 8 8]\n",
        " [1 2 3 3 1 1]\n",
        " [1 2 3 8 8 8]]\n",
        "\n",
        "Col Wise\n",
        "[[1 1 2 3 3]\n",
        " [0 8 9 1 2]\n",
        " [1 8 2 3 8]\n",
        " [1 1 2 3 3]]\n",
        "```"
      ],
      "metadata": {
        "id": "VmOyK_8klRqR"
      }
    },
    {
      "cell_type": "code",
      "source": [
        "# code here\n",
        "arr = np.array([[1,2,3,3,1,1],\n",
        "                [0,9,1,2,8,8],\n",
        "                [1,2,3,8,8,8],\n",
        "                [1,2,3,3,1,2]])\n",
        "row_wise=np.unique(arr,axis=0)\n",
        "col_wise=np.unique(arr,axis=1)\n",
        "print(\"Row Wise:\\n\",row_wise)\n",
        "print(\"Col Wise:\\n\",col_wise)"
      ],
      "metadata": {
        "id": "LJl10VQrlU5q",
        "colab": {
          "base_uri": "https://localhost:8080/"
        },
        "outputId": "806be211-e4ef-49ad-f817-5f7e6034a870"
      },
      "execution_count": 26,
      "outputs": [
        {
          "output_type": "stream",
          "name": "stdout",
          "text": [
            "Row Wise:\n",
            " [[0 9 1 2 8 8]\n",
            " [1 2 3 3 1 1]\n",
            " [1 2 3 3 1 2]\n",
            " [1 2 3 8 8 8]]\n",
            "Col Wise:\n",
            " [[1 1 1 2 3 3]\n",
            " [0 8 8 9 1 2]\n",
            " [1 8 8 2 3 8]\n",
            " [1 1 2 2 3 3]]\n"
          ]
        }
      ]
    },
    {
      "cell_type": "markdown",
      "source": [
        "###`Q-4:` Flip given 2-D array along both axes at the same time."
      ],
      "metadata": {
        "id": "RaXwVkywlWY2"
      }
    },
    {
      "cell_type": "code",
      "source": [
        "# code here\n",
        "np.flip(arr)"
      ],
      "metadata": {
        "id": "mN7-4G8Kleeq",
        "colab": {
          "base_uri": "https://localhost:8080/"
        },
        "outputId": "bc39cb73-c84d-4997-b458-b2817cd519a3"
      },
      "execution_count": 27,
      "outputs": [
        {
          "output_type": "execute_result",
          "data": {
            "text/plain": [
              "array([[2, 1, 3, 3, 2, 1],\n",
              "       [8, 8, 8, 3, 2, 1],\n",
              "       [8, 8, 2, 1, 9, 0],\n",
              "       [1, 1, 3, 3, 2, 1]])"
            ]
          },
          "metadata": {},
          "execution_count": 27
        }
      ]
    },
    {
      "cell_type": "markdown",
      "source": [
        "### `Q-5:` Get row numbers of NumPy array having element larger than X.\n",
        "```\n",
        "arr = [[1,2,3,4,5],\n",
        "      [10,-3,30,4,5],\n",
        "      [3,2,5,-4,5],\n",
        "      [9,7,3,6,5]]\n",
        "\n",
        "X = 6\n",
        "```"
      ],
      "metadata": {
        "id": "X0S7BUNTlfoq"
      }
    },
    {
      "cell_type": "code",
      "source": [
        "import numpy as np\n",
        "\n",
        "arr = np.array([[1, 2, 3, 4, 5],\n",
        "                [10, -3, 30, 4, 5],\n",
        "                [3, 2, 5, -4, 5],\n",
        "                [9, 7, 3, 6, 5]])\n",
        "\n",
        "X = 6\n",
        "\n",
        "# Get row indices where any element > X\n",
        "rows_with_large_element = np.where(np.any(arr > X, axis=1))[0]\n",
        "\n",
        "print(\"Row numbers with element larger than\", X, \":\", rows_with_large_element)\n"
      ],
      "metadata": {
        "id": "bi8jRmWhlkBU",
        "colab": {
          "base_uri": "https://localhost:8080/"
        },
        "outputId": "e745ce4a-a9af-460a-8dde-66ad25cb2692"
      },
      "execution_count": 30,
      "outputs": [
        {
          "output_type": "stream",
          "name": "stdout",
          "text": [
            "Row numbers with element larger than 6 : [1 3]\n"
          ]
        }
      ]
    },
    {
      "cell_type": "markdown",
      "source": [
        "### `Q-6:` How to convert an array of arrays into a flat 1d array?\n"
      ],
      "metadata": {
        "id": "DSCQMo4mlnDG"
      }
    },
    {
      "cell_type": "code",
      "source": [
        "# These arrays are given.\n",
        "arr1 = np.arange(3)\n",
        "arr2 = np.arange(3,7)\n",
        "arr3 = np.arange(7,10)"
      ],
      "metadata": {
        "id": "QZhSkUT2lsJW"
      },
      "execution_count": 31,
      "outputs": []
    },
    {
      "cell_type": "code",
      "source": [
        "# code here\n",
        "flat_array = np.hstack((arr1, arr2, arr3))\n",
        "print(flat_array)\n"
      ],
      "metadata": {
        "id": "f42OXNrFls0I",
        "colab": {
          "base_uri": "https://localhost:8080/"
        },
        "outputId": "36d336c4-5762-4578-e23f-08203f1e5903"
      },
      "execution_count": 32,
      "outputs": [
        {
          "output_type": "stream",
          "name": "stdout",
          "text": [
            "[0 1 2 3 4 5 6 7 8 9]\n"
          ]
        }
      ]
    },
    {
      "cell_type": "markdown",
      "source": [
        "### `Q-7:` You are given a array. You have to find the minimum and maximum array element and remove that from the array.\n",
        "\n",
        "```python\n",
        "import numpy as np\n",
        "\n",
        "np.random.seed(400)\n",
        "arr = np.random.randint(100, 1000, 200).reshape((1, 200))\n",
        "```"
      ],
      "metadata": {
        "id": "A1J4oOVCluqO"
      }
    },
    {
      "cell_type": "code",
      "source": [
        "# code here\n",
        "import numpy as np\n",
        "\n",
        "# Seed and array\n",
        "np.random.seed(400)\n",
        "arr = np.random.randint(100, 1000, 200).reshape((1, 200))\n",
        "\n",
        "\n",
        "\n",
        "# Find min and max values\n",
        "min_val = arr.min()\n",
        "max_val = arr.max()\n",
        "\n",
        "print(\"Minimum value:\", min_val)\n",
        "print(\"Maximum value:\", max_val)\n",
        "\n",
        "# Remove min and max from the array\n",
        "arr_filtered = arr[(arr != min_val) & (arr != max_val)]\n",
        "\n",
        "print(\"Array after removing min and max:\", arr_filtered)\n"
      ],
      "metadata": {
        "id": "c6kmgtUJlybZ",
        "colab": {
          "base_uri": "https://localhost:8080/"
        },
        "outputId": "d1a4b71c-93f0-4a87-88bd-9d6b60275486"
      },
      "execution_count": 33,
      "outputs": [
        {
          "output_type": "stream",
          "name": "stdout",
          "text": [
            "Minimum value: 103\n",
            "Maximum value: 998\n",
            "Array after removing min and max: [448 563 418 240 507 362 345 236 719 291 298 639 458 387 262 613 267 882\n",
            " 181 425 790 635 889 818 872 967 277 470 336 920 917 295 557 830 506 385\n",
            " 353 975 592 997 137 340 222 215 472 459 617 649 935 956 914 932 645 952\n",
            " 921 490 527 972 278 307 840 958 246 449 251 957 627 920 824 356 825 173\n",
            " 323 372 960 710 464 244 782 763 635 436 774 171 469 178 458 624 211 771\n",
            " 270 308 231 952 514 699 702 433 900 373 318 265 503 320 230 324 922 967\n",
            " 620 743 527 117 566 804 123 946 587 227 853 757 944 328 855 930 325 729\n",
            " 426 514 296 879 575 936 705 209 191 743 510 513 628 559 658 528 395 525\n",
            " 922 136 496 225 895 975 263 908 420 711 800 976 786 235 930 859 618 226\n",
            " 695 460 218 483 490 803 621 453 193 607 677 637 728 724 534 748 291 194\n",
            " 761 875 687 569 228 482 781 554 654 739 885 197 266 228 892 207 883 588]\n"
          ]
        }
      ]
    },
    {
      "cell_type": "markdown",
      "source": [
        "### `Q-8:` You are given an arrays. You have to limit this array's elements between 100 to 200. $arr ∈ [100, 700]$. So replace those values accordingly with the minimum and maximum value. Then sort the array and perform the cumulative sum of that array."
      ],
      "metadata": {
        "id": "0dHN1sdnl0Jy"
      }
    },
    {
      "cell_type": "code",
      "source": [
        "# code here\n",
        "import numpy as np\n",
        "\n",
        "# Example array\n",
        "np.random.seed(42)\n",
        "arr = np.random.randint(100, 700, 20)\n",
        "print(\"Original array:\\n\", arr)\n",
        "\n",
        "# Step 1: Clip the array between 100 and 200\n",
        "arr_clipped = np.clip(arr, 100, 200)\n",
        "print(\"\\nClipped array (100 to 200):\\n\", arr_clipped)\n",
        "\n",
        "# Step 2: Sort the array\n",
        "arr_sorted = np.sort(arr_clipped)\n",
        "print(\"\\nSorted array:\\n\", arr_sorted)\n",
        "\n",
        "# Step 3: Compute cumulative sum\n",
        "arr_cumsum = np.cumsum(arr_sorted)\n",
        "print(\"\\nCumulative sum of sorted array:\\n\", arr_cumsum)\n"
      ],
      "metadata": {
        "id": "a3YF_E-Hlza7",
        "colab": {
          "base_uri": "https://localhost:8080/"
        },
        "outputId": "24d9e9c4-8552-4871-cd88-8d11074afe96"
      },
      "execution_count": 34,
      "outputs": [
        {
          "output_type": "stream",
          "name": "stdout",
          "text": [
            "Original array:\n",
            " [202 535 370 206 171 120 221 566 314 430 558 187 472 199 230 408 443 591\n",
            " 513 485]\n",
            "\n",
            "Clipped array (100 to 200):\n",
            " [200 200 200 200 171 120 200 200 200 200 200 187 200 199 200 200 200 200\n",
            " 200 200]\n",
            "\n",
            "Sorted array:\n",
            " [120 171 187 199 200 200 200 200 200 200 200 200 200 200 200 200 200 200\n",
            " 200 200]\n",
            "\n",
            "Cumulative sum of sorted array:\n",
            " [ 120  291  478  677  877 1077 1277 1477 1677 1877 2077 2277 2477 2677\n",
            " 2877 3077 3277 3477 3677 3877]\n"
          ]
        }
      ]
    },
    {
      "cell_type": "markdown",
      "source": [
        "### `Q-9:` You are given a array ($arr ∈ [0, 1]$). First you have round off the elements upto 3 decimal places and compare that\n",
        "- 0th percentile == minimum value of the array\n",
        "- 100th percentile == maximum value of the array\n",
        "- also find the difference betwen 51th percenile and 50th percentile values"
      ],
      "metadata": {
        "id": "cXj90Susl4-I"
      }
    },
    {
      "cell_type": "code",
      "source": [
        "# code here\n",
        "import numpy as np\n",
        "\n",
        "# Example array\n",
        "np.random.seed(42)\n",
        "arr = np.random.rand(20)  # values in [0,1]\n",
        "print(\"Original array:\\n\", arr)\n",
        "\n",
        "# Step 1: Round elements to 3 decimal places\n",
        "arr_rounded = np.round(arr, 3)\n",
        "print(\"\\nRounded array (3 decimals):\\n\", arr_rounded)\n",
        "\n",
        "# Step 2: Compare 0th and 100th percentile with min and max\n",
        "percentile_0 = np.percentile(arr_rounded, 0)\n",
        "percentile_100 = np.percentile(arr_rounded, 100)\n",
        "min_val = arr_rounded.min()\n",
        "max_val = arr_rounded.max()\n",
        "\n",
        "print(\"\\n0th percentile:\", percentile_0, \"== min value:\", min_val)\n",
        "print(\"100th percentile:\", percentile_100, \"== max value:\", max_val)\n",
        "\n",
        "# Step 3: Find difference between 51st and 50th percentiles\n",
        "percentile_50 = np.percentile(arr_rounded, 50)\n",
        "percentile_51 = np.percentile(arr_rounded, 51)\n",
        "diff = percentile_51 - percentile_50\n",
        "\n",
        "print(\"\\n50th percentile:\", percentile_50)\n",
        "print(\"51st percentile:\", percentile_51)\n",
        "print(\"Difference (51th - 50th percentile):\", diff)\n"
      ],
      "metadata": {
        "id": "SgBEHodgl7Lo",
        "colab": {
          "base_uri": "https://localhost:8080/"
        },
        "outputId": "e66767cb-eed4-4e04-9811-41322dc3e465"
      },
      "execution_count": 35,
      "outputs": [
        {
          "output_type": "stream",
          "name": "stdout",
          "text": [
            "Original array:\n",
            " [0.37454012 0.95071431 0.73199394 0.59865848 0.15601864 0.15599452\n",
            " 0.05808361 0.86617615 0.60111501 0.70807258 0.02058449 0.96990985\n",
            " 0.83244264 0.21233911 0.18182497 0.18340451 0.30424224 0.52475643\n",
            " 0.43194502 0.29122914]\n",
            "\n",
            "Rounded array (3 decimals):\n",
            " [0.375 0.951 0.732 0.599 0.156 0.156 0.058 0.866 0.601 0.708 0.021 0.97\n",
            " 0.832 0.212 0.182 0.183 0.304 0.525 0.432 0.291]\n",
            "\n",
            "0th percentile: 0.021 == min value: 0.021\n",
            "100th percentile: 0.97 == max value: 0.97\n",
            "\n",
            "50th percentile: 0.40349999999999997\n",
            "51st percentile: 0.41433\n",
            "Difference (51th - 50th percentile): 0.010830000000000006\n"
          ]
        }
      ]
    }
  ]
}