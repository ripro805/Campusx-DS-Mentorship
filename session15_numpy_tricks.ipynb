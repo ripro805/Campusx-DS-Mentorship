{
  "nbformat": 4,
  "nbformat_minor": 0,
  "metadata": {
    "colab": {
      "provenance": [],
      "include_colab_link": true
    },
    "kernelspec": {
      "name": "python3",
      "display_name": "Python 3"
    },
    "language_info": {
      "name": "python"
    }
  },
  "cells": [
    {
      "cell_type": "markdown",
      "metadata": {
        "id": "view-in-github",
        "colab_type": "text"
      },
      "source": [
        "<a href=\"https://colab.research.google.com/github/ripro805/Campusx-DS-Mentorship/blob/main/session15_numpy_tricks.ipynb\" target=\"_parent\"><img src=\"https://colab.research.google.com/assets/colab-badge.svg\" alt=\"Open In Colab\"/></a>"
      ]
    },
    {
      "cell_type": "markdown",
      "source": [
        "### np.sort\n",
        "\n",
        "Return a sorted copy of an array.\n",
        "\n",
        "https://numpy.org/doc/stable/reference/generated/numpy.sort.html"
      ],
      "metadata": {
        "id": "39-UcmoPggtI"
      }
    },
    {
      "cell_type": "code",
      "source": [
        "# code\n",
        "import numpy as np\n",
        "a = np.random.randint(1,100,15)\n",
        "a"
      ],
      "metadata": {
        "colab": {
          "base_uri": "https://localhost:8080/"
        },
        "id": "vJUzuaz7gqTr",
        "outputId": "b20eefff-bc23-43b6-9584-7e46a89beed3"
      },
      "execution_count": 1,
      "outputs": [
        {
          "output_type": "execute_result",
          "data": {
            "text/plain": [
              "array([89, 69, 28, 38, 95, 88, 99, 54, 22, 25, 59, 77, 30, 54, 52])"
            ]
          },
          "metadata": {},
          "execution_count": 1
        }
      ]
    },
    {
      "cell_type": "code",
      "source": [
        "b=np.random.randint(1,100,24).reshape(6,4)\n",
        "b"
      ],
      "metadata": {
        "colab": {
          "base_uri": "https://localhost:8080/"
        },
        "id": "Dfer5zY9-HaK",
        "outputId": "d15b3305-2fff-4f11-f913-320b911712c8"
      },
      "execution_count": 2,
      "outputs": [
        {
          "output_type": "execute_result",
          "data": {
            "text/plain": [
              "array([[64, 16, 23, 80],\n",
              "       [ 5, 55, 76, 22],\n",
              "       [75, 79, 68, 57],\n",
              "       [65, 10, 94, 92],\n",
              "       [33, 46, 37, 31],\n",
              "       [42, 67, 12, 63]])"
            ]
          },
          "metadata": {},
          "execution_count": 2
        }
      ]
    },
    {
      "cell_type": "code",
      "source": [
        "np.sort(a)"
      ],
      "metadata": {
        "colab": {
          "base_uri": "https://localhost:8080/"
        },
        "id": "dyjeU-C6KznM",
        "outputId": "fdd9895d-261a-48c7-ff3a-dff38a5bda17"
      },
      "execution_count": 3,
      "outputs": [
        {
          "output_type": "execute_result",
          "data": {
            "text/plain": [
              "array([22, 25, 28, 30, 38, 52, 54, 54, 59, 69, 77, 88, 89, 95, 99])"
            ]
          },
          "metadata": {},
          "execution_count": 3
        }
      ]
    },
    {
      "cell_type": "code",
      "source": [
        "#descending\n",
        "np.sort(a)[::-1]"
      ],
      "metadata": {
        "colab": {
          "base_uri": "https://localhost:8080/"
        },
        "id": "kQgRgYFjp8KZ",
        "outputId": "44f2323f-8eb1-4613-dc42-23cbcff56d55"
      },
      "execution_count": 4,
      "outputs": [
        {
          "output_type": "execute_result",
          "data": {
            "text/plain": [
              "array([99, 95, 89, 88, 77, 69, 59, 54, 54, 52, 38, 30, 28, 25, 22])"
            ]
          },
          "metadata": {},
          "execution_count": 4
        }
      ]
    },
    {
      "cell_type": "code",
      "source": [
        "np.sort(b)"
      ],
      "metadata": {
        "colab": {
          "base_uri": "https://localhost:8080/"
        },
        "id": "9fAdd5BWLHsq",
        "outputId": "12a5f903-c48f-42c2-a6df-3af3557e78d3"
      },
      "execution_count": 5,
      "outputs": [
        {
          "output_type": "execute_result",
          "data": {
            "text/plain": [
              "array([[16, 23, 64, 80],\n",
              "       [ 5, 22, 55, 76],\n",
              "       [57, 68, 75, 79],\n",
              "       [10, 65, 92, 94],\n",
              "       [31, 33, 37, 46],\n",
              "       [12, 42, 63, 67]])"
            ]
          },
          "metadata": {},
          "execution_count": 5
        }
      ]
    },
    {
      "cell_type": "code",
      "source": [
        "#columnwise\n",
        "np.sort(b,axis=0)"
      ],
      "metadata": {
        "colab": {
          "base_uri": "https://localhost:8080/"
        },
        "id": "L73Y7NNjqPOS",
        "outputId": "71bdf53e-0bc0-4055-d269-c74840b1d003"
      },
      "execution_count": 6,
      "outputs": [
        {
          "output_type": "execute_result",
          "data": {
            "text/plain": [
              "array([[ 5, 10, 12, 22],\n",
              "       [33, 16, 23, 31],\n",
              "       [42, 46, 37, 57],\n",
              "       [64, 55, 68, 63],\n",
              "       [65, 67, 76, 80],\n",
              "       [75, 79, 94, 92]])"
            ]
          },
          "metadata": {},
          "execution_count": 6
        }
      ]
    },
    {
      "cell_type": "markdown",
      "source": [
        "### np.append\n",
        "\n",
        "The numpy.append() appends values along the mentioned axis at the end of the array\n",
        "\n",
        "https://numpy.org/doc/stable/reference/generated/numpy.append.html"
      ],
      "metadata": {
        "id": "W8tttorjgrVf"
      }
    },
    {
      "cell_type": "code",
      "source": [
        "# code\n",
        "np.append(a,200)"
      ],
      "metadata": {
        "id": "Y3fHkR1gfd1X",
        "colab": {
          "base_uri": "https://localhost:8080/"
        },
        "outputId": "7ab18e85-ac47-4344-8cf8-9a332e78970f"
      },
      "execution_count": 7,
      "outputs": [
        {
          "output_type": "execute_result",
          "data": {
            "text/plain": [
              "array([ 89,  69,  28,  38,  95,  88,  99,  54,  22,  25,  59,  77,  30,\n",
              "        54,  52, 200])"
            ]
          },
          "metadata": {},
          "execution_count": 7
        }
      ]
    },
    {
      "cell_type": "code",
      "source": [
        "b"
      ],
      "metadata": {
        "colab": {
          "base_uri": "https://localhost:8080/"
        },
        "id": "vmPc3zS3L2LL",
        "outputId": "18c0665a-dbd6-4105-b0f7-0edbd0bcc4f0"
      },
      "execution_count": 8,
      "outputs": [
        {
          "output_type": "execute_result",
          "data": {
            "text/plain": [
              "array([[64, 16, 23, 80],\n",
              "       [ 5, 55, 76, 22],\n",
              "       [75, 79, 68, 57],\n",
              "       [65, 10, 94, 92],\n",
              "       [33, 46, 37, 31],\n",
              "       [42, 67, 12, 63]])"
            ]
          },
          "metadata": {},
          "execution_count": 8
        }
      ]
    },
    {
      "cell_type": "code",
      "source": [
        "np.append(b,np.random.random((b.shape[0],1)),axis=1)"
      ],
      "metadata": {
        "colab": {
          "base_uri": "https://localhost:8080/"
        },
        "id": "LsIvCKQ5L-DB",
        "outputId": "0471b60c-b6d9-45ec-fca1-3776158bf50f"
      },
      "execution_count": 9,
      "outputs": [
        {
          "output_type": "execute_result",
          "data": {
            "text/plain": [
              "array([[64.        , 16.        , 23.        , 80.        ,  0.76458709],\n",
              "       [ 5.        , 55.        , 76.        , 22.        ,  0.56441217],\n",
              "       [75.        , 79.        , 68.        , 57.        ,  0.95919959],\n",
              "       [65.        , 10.        , 94.        , 92.        ,  0.70916201],\n",
              "       [33.        , 46.        , 37.        , 31.        ,  0.32511573],\n",
              "       [42.        , 67.        , 12.        , 63.        ,  0.16702574]])"
            ]
          },
          "metadata": {},
          "execution_count": 9
        }
      ]
    },
    {
      "cell_type": "markdown",
      "source": [
        "### np.concatenate\n",
        "\n",
        "numpy.concatenate() function concatenate a sequence of arrays along an existing axis.\n",
        "\n",
        "https://numpy.org/doc/stable/reference/generated/numpy.concatenate.html"
      ],
      "metadata": {
        "id": "meIMn8T9g5-m"
      }
    },
    {
      "cell_type": "code",
      "source": [
        "# code\n",
        "c=np.arange(6).reshape(2,3)\n",
        "d=np.arange(12,18).reshape(2,3)\n",
        "\n",
        "print(c)\n",
        "print(d)"
      ],
      "metadata": {
        "colab": {
          "base_uri": "https://localhost:8080/"
        },
        "id": "Nrj1_QXfWZlV",
        "outputId": "2d1755f4-d99f-4af3-98f3-9355b020b95b"
      },
      "execution_count": 10,
      "outputs": [
        {
          "output_type": "stream",
          "name": "stdout",
          "text": [
            "[[0 1 2]\n",
            " [3 4 5]]\n",
            "[[12 13 14]\n",
            " [15 16 17]]\n"
          ]
        }
      ]
    },
    {
      "cell_type": "code",
      "source": [
        "np.concatenate((c,d),axis=0)"
      ],
      "metadata": {
        "id": "fDHBrV7VA4yz",
        "colab": {
          "base_uri": "https://localhost:8080/"
        },
        "outputId": "ef17bfbe-f73c-427b-bcd7-b2fab013f404"
      },
      "execution_count": 11,
      "outputs": [
        {
          "output_type": "execute_result",
          "data": {
            "text/plain": [
              "array([[ 0,  1,  2],\n",
              "       [ 3,  4,  5],\n",
              "       [12, 13, 14],\n",
              "       [15, 16, 17]])"
            ]
          },
          "metadata": {},
          "execution_count": 11
        }
      ]
    },
    {
      "cell_type": "code",
      "source": [
        "np.concatenate((c,d),axis=1)"
      ],
      "metadata": {
        "colab": {
          "base_uri": "https://localhost:8080/"
        },
        "id": "GN9DnJ65Mr_b",
        "outputId": "b4b24f0e-57c2-4b2f-dd9c-0df8b0cb1406"
      },
      "execution_count": 12,
      "outputs": [
        {
          "output_type": "execute_result",
          "data": {
            "text/plain": [
              "array([[ 0,  1,  2, 12, 13, 14],\n",
              "       [ 3,  4,  5, 15, 16, 17]])"
            ]
          },
          "metadata": {},
          "execution_count": 12
        }
      ]
    },
    {
      "cell_type": "markdown",
      "source": [
        "### np.unique\n",
        "\n",
        "With the help of np.unique() method, we can get the unique values from an array given as parameter in np.unique() method.\n",
        "\n",
        "https://numpy.org/doc/stable/reference/generated/numpy.unique.html/"
      ],
      "metadata": {
        "id": "oHGFqHcohFtB"
      }
    },
    {
      "cell_type": "code",
      "source": [
        "# code\n",
        "e=np.array([1,1,2,2,3,3,4,4,5,5,6,6])"
      ],
      "metadata": {
        "id": "NvG0KHpNWdN_"
      },
      "execution_count": 13,
      "outputs": []
    },
    {
      "cell_type": "code",
      "source": [
        "np.unique(e)"
      ],
      "metadata": {
        "id": "XWr932XeCFz1",
        "colab": {
          "base_uri": "https://localhost:8080/"
        },
        "outputId": "d5d5d49f-737b-43a0-d5dc-ce7b765ccf0a"
      },
      "execution_count": 14,
      "outputs": [
        {
          "output_type": "execute_result",
          "data": {
            "text/plain": [
              "array([1, 2, 3, 4, 5, 6])"
            ]
          },
          "metadata": {},
          "execution_count": 14
        }
      ]
    },
    {
      "cell_type": "markdown",
      "source": [
        "### np.expand_dims\n",
        "\n",
        "With the help of Numpy.expand_dims() method, we can get the expanded dimensions of an array\n",
        "\n",
        "https://numpy.org/doc/stable/reference/generated/numpy.expand_dims.html"
      ],
      "metadata": {
        "id": "Wki2yOXaEZV3"
      }
    },
    {
      "cell_type": "code",
      "source": [
        "# code\n",
        "a\n",
        "#from 1d to 2d and 2d to 3d"
      ],
      "metadata": {
        "id": "Pyvf-oZ0XTvr",
        "colab": {
          "base_uri": "https://localhost:8080/"
        },
        "outputId": "3131541e-82bc-42e3-9c21-ed91ad7024a0"
      },
      "execution_count": 15,
      "outputs": [
        {
          "output_type": "execute_result",
          "data": {
            "text/plain": [
              "array([89, 69, 28, 38, 95, 88, 99, 54, 22, 25, 59, 77, 30, 54, 52])"
            ]
          },
          "metadata": {},
          "execution_count": 15
        }
      ]
    },
    {
      "cell_type": "code",
      "source": [
        "np.expand_dims(a,axis=1)"
      ],
      "metadata": {
        "colab": {
          "base_uri": "https://localhost:8080/"
        },
        "id": "B-Pk9HNzNdrb",
        "outputId": "62d1f3d0-561d-4b17-8a51-c221ce5c71a8"
      },
      "execution_count": 16,
      "outputs": [
        {
          "output_type": "execute_result",
          "data": {
            "text/plain": [
              "array([[89],\n",
              "       [69],\n",
              "       [28],\n",
              "       [38],\n",
              "       [95],\n",
              "       [88],\n",
              "       [99],\n",
              "       [54],\n",
              "       [22],\n",
              "       [25],\n",
              "       [59],\n",
              "       [77],\n",
              "       [30],\n",
              "       [54],\n",
              "       [52]])"
            ]
          },
          "metadata": {},
          "execution_count": 16
        }
      ]
    },
    {
      "cell_type": "code",
      "source": [
        "np.expand_dims(a,axis=0)"
      ],
      "metadata": {
        "colab": {
          "base_uri": "https://localhost:8080/"
        },
        "id": "5d0Ahp8QNsKO",
        "outputId": "95ecbb11-802c-4859-edf6-3684899ce074"
      },
      "execution_count": 17,
      "outputs": [
        {
          "output_type": "execute_result",
          "data": {
            "text/plain": [
              "array([[89, 69, 28, 38, 95, 88, 99, 54, 22, 25, 59, 77, 30, 54, 52]])"
            ]
          },
          "metadata": {},
          "execution_count": 17
        }
      ]
    },
    {
      "cell_type": "markdown",
      "source": [
        "### np.where\n",
        "\n",
        "The numpy.where() function returns the indices of elements in an input array where the given condition is satisfied.\n",
        "\n",
        "https://numpy.org/doc/stable/reference/generated/numpy.where.html"
      ],
      "metadata": {
        "id": "_HmpYNTFERjS"
      }
    },
    {
      "cell_type": "code",
      "source": [
        "a"
      ],
      "metadata": {
        "id": "H8k_ZDXjEo5W",
        "colab": {
          "base_uri": "https://localhost:8080/"
        },
        "outputId": "85e97a24-936e-449e-88a9-7006445f053d"
      },
      "execution_count": 18,
      "outputs": [
        {
          "output_type": "execute_result",
          "data": {
            "text/plain": [
              "array([89, 69, 28, 38, 95, 88, 99, 54, 22, 25, 59, 77, 30, 54, 52])"
            ]
          },
          "metadata": {},
          "execution_count": 18
        }
      ]
    },
    {
      "cell_type": "code",
      "source": [
        "# find all indices with value greater than 50\n",
        "np.where(a>50)"
      ],
      "metadata": {
        "colab": {
          "base_uri": "https://localhost:8080/"
        },
        "id": "n9mkvdFdHGLY",
        "outputId": "313c5f7e-12a6-4de0-c62c-92c42793270e"
      },
      "execution_count": 19,
      "outputs": [
        {
          "output_type": "execute_result",
          "data": {
            "text/plain": [
              "(array([ 0,  1,  4,  5,  6,  7, 10, 11, 13, 14]),)"
            ]
          },
          "metadata": {},
          "execution_count": 19
        }
      ]
    },
    {
      "cell_type": "code",
      "source": [
        "# replace all values > 50 with 0\n",
        "#np.where(condition,true,false)\n",
        "np.where(a>50,0,a)"
      ],
      "metadata": {
        "id": "zJAUufBOHcu1",
        "colab": {
          "base_uri": "https://localhost:8080/"
        },
        "outputId": "b378f602-c7c5-4b8f-f5b6-e9e25d282d08"
      },
      "execution_count": 20,
      "outputs": [
        {
          "output_type": "execute_result",
          "data": {
            "text/plain": [
              "array([ 0,  0, 28, 38,  0,  0,  0,  0, 22, 25,  0,  0, 30,  0,  0])"
            ]
          },
          "metadata": {},
          "execution_count": 20
        }
      ]
    },
    {
      "cell_type": "code",
      "source": [
        "np.where(a%2==0,0,a)"
      ],
      "metadata": {
        "colab": {
          "base_uri": "https://localhost:8080/"
        },
        "id": "Ygx7fC0BPP9e",
        "outputId": "bf0715ed-e3c8-40b5-cf07-21311793a6bf"
      },
      "execution_count": 21,
      "outputs": [
        {
          "output_type": "execute_result",
          "data": {
            "text/plain": [
              "array([89, 69,  0,  0, 95,  0, 99,  0,  0, 25, 59, 77,  0,  0,  0])"
            ]
          },
          "metadata": {},
          "execution_count": 21
        }
      ]
    },
    {
      "cell_type": "markdown",
      "source": [
        "### np.argmax\n",
        "\n",
        "The numpy.argmax() function returns indices of the max element of the array in a particular axis.\n",
        "\n",
        "https://numpy.org/doc/stable/reference/generated/numpy.argmax.html"
      ],
      "metadata": {
        "id": "jsGIGNtCIS5-"
      }
    },
    {
      "cell_type": "code",
      "source": [
        "# code\n",
        "a\n"
      ],
      "metadata": {
        "colab": {
          "base_uri": "https://localhost:8080/"
        },
        "id": "8YlXmMuaIRpj",
        "outputId": "b3bc0367-8e66-476b-d563-6dfc5c180ad4"
      },
      "execution_count": 22,
      "outputs": [
        {
          "output_type": "execute_result",
          "data": {
            "text/plain": [
              "array([89, 69, 28, 38, 95, 88, 99, 54, 22, 25, 59, 77, 30, 54, 52])"
            ]
          },
          "metadata": {},
          "execution_count": 22
        }
      ]
    },
    {
      "cell_type": "code",
      "source": [
        "np.argmax(a)"
      ],
      "metadata": {
        "colab": {
          "base_uri": "https://localhost:8080/"
        },
        "id": "gdrU6cQ9Pn_A",
        "outputId": "aa1d1242-e5c5-4e20-b3b7-3ef72298d1c3"
      },
      "execution_count": 23,
      "outputs": [
        {
          "output_type": "execute_result",
          "data": {
            "text/plain": [
              "np.int64(6)"
            ]
          },
          "metadata": {},
          "execution_count": 23
        }
      ]
    },
    {
      "cell_type": "code",
      "source": [
        "b"
      ],
      "metadata": {
        "colab": {
          "base_uri": "https://localhost:8080/"
        },
        "id": "CohggNGrP5am",
        "outputId": "26dd8289-8e40-4bef-a4c8-e915a947ad5a"
      },
      "execution_count": 24,
      "outputs": [
        {
          "output_type": "execute_result",
          "data": {
            "text/plain": [
              "array([[64, 16, 23, 80],\n",
              "       [ 5, 55, 76, 22],\n",
              "       [75, 79, 68, 57],\n",
              "       [65, 10, 94, 92],\n",
              "       [33, 46, 37, 31],\n",
              "       [42, 67, 12, 63]])"
            ]
          },
          "metadata": {},
          "execution_count": 24
        }
      ]
    },
    {
      "cell_type": "code",
      "source": [
        "np.argmax(b,axis=0)\n"
      ],
      "metadata": {
        "colab": {
          "base_uri": "https://localhost:8080/"
        },
        "id": "435CD24aIpNA",
        "outputId": "f990c290-2d7f-4f77-aef1-97c3be82cd12"
      },
      "execution_count": 25,
      "outputs": [
        {
          "output_type": "execute_result",
          "data": {
            "text/plain": [
              "array([2, 2, 3, 3])"
            ]
          },
          "metadata": {},
          "execution_count": 25
        }
      ]
    },
    {
      "cell_type": "code",
      "source": [
        "np.argmax(b,axis=1)"
      ],
      "metadata": {
        "colab": {
          "base_uri": "https://localhost:8080/"
        },
        "id": "PBuZH3mbQE1U",
        "outputId": "6639d7b3-0d46-473a-9da7-de968790382a"
      },
      "execution_count": 26,
      "outputs": [
        {
          "output_type": "execute_result",
          "data": {
            "text/plain": [
              "array([3, 2, 1, 2, 1, 1])"
            ]
          },
          "metadata": {},
          "execution_count": 26
        }
      ]
    },
    {
      "cell_type": "code",
      "source": [
        "# np.argmin\n",
        "np.argmin(a)"
      ],
      "metadata": {
        "id": "T9TrLGNBWjV1",
        "colab": {
          "base_uri": "https://localhost:8080/"
        },
        "outputId": "302e7957-b466-467d-8b63-f2344a9edca3"
      },
      "execution_count": 27,
      "outputs": [
        {
          "output_type": "execute_result",
          "data": {
            "text/plain": [
              "np.int64(8)"
            ]
          },
          "metadata": {},
          "execution_count": 27
        }
      ]
    },
    {
      "cell_type": "markdown",
      "source": [
        "### np.cumsum\n",
        "\n",
        "numpy.cumsum() function is used when we want to compute the cumulative sum of array elements over a given axis.\n",
        "\n",
        "https://numpy.org/doc/stable/reference/generated/numpy.cumsum.html"
      ],
      "metadata": {
        "id": "1OdKi27pa091"
      }
    },
    {
      "cell_type": "code",
      "source": [
        "a"
      ],
      "metadata": {
        "id": "VZmQUWH9bDk_",
        "colab": {
          "base_uri": "https://localhost:8080/"
        },
        "outputId": "1459b2bb-2bd5-4e34-e4e7-8c8829621da9"
      },
      "execution_count": 28,
      "outputs": [
        {
          "output_type": "execute_result",
          "data": {
            "text/plain": [
              "array([89, 69, 28, 38, 95, 88, 99, 54, 22, 25, 59, 77, 30, 54, 52])"
            ]
          },
          "metadata": {},
          "execution_count": 28
        }
      ]
    },
    {
      "cell_type": "code",
      "source": [
        "np.cumsum(a)"
      ],
      "metadata": {
        "colab": {
          "base_uri": "https://localhost:8080/"
        },
        "id": "O0npD0R_RF-A",
        "outputId": "ef2cf28e-f6fa-447c-f2b7-89d66c66e028"
      },
      "execution_count": 29,
      "outputs": [
        {
          "output_type": "execute_result",
          "data": {
            "text/plain": [
              "array([ 89, 158, 186, 224, 319, 407, 506, 560, 582, 607, 666, 743, 773,\n",
              "       827, 879])"
            ]
          },
          "metadata": {},
          "execution_count": 29
        }
      ]
    },
    {
      "cell_type": "code",
      "source": [
        "np.cumsum(b,axis=1)"
      ],
      "metadata": {
        "colab": {
          "base_uri": "https://localhost:8080/"
        },
        "id": "Ypr5nUGxRJuO",
        "outputId": "ff9cce8f-d850-47a8-8b5f-707e2462b388"
      },
      "execution_count": 30,
      "outputs": [
        {
          "output_type": "execute_result",
          "data": {
            "text/plain": [
              "array([[ 64,  80, 103, 183],\n",
              "       [  5,  60, 136, 158],\n",
              "       [ 75, 154, 222, 279],\n",
              "       [ 65,  75, 169, 261],\n",
              "       [ 33,  79, 116, 147],\n",
              "       [ 42, 109, 121, 184]])"
            ]
          },
          "metadata": {},
          "execution_count": 30
        }
      ]
    },
    {
      "cell_type": "code",
      "source": [
        "np.cumsum(b,axis=0)"
      ],
      "metadata": {
        "colab": {
          "base_uri": "https://localhost:8080/"
        },
        "id": "WXRZyWT9RTMw",
        "outputId": "e5b28720-cb71-401a-c866-66da15e45c5e"
      },
      "execution_count": 31,
      "outputs": [
        {
          "output_type": "execute_result",
          "data": {
            "text/plain": [
              "array([[ 64,  16,  23,  80],\n",
              "       [ 69,  71,  99, 102],\n",
              "       [144, 150, 167, 159],\n",
              "       [209, 160, 261, 251],\n",
              "       [242, 206, 298, 282],\n",
              "       [284, 273, 310, 345]])"
            ]
          },
          "metadata": {},
          "execution_count": 31
        }
      ]
    },
    {
      "cell_type": "code",
      "source": [
        "# np.cumprod"
      ],
      "metadata": {
        "id": "RtGuPGr9WlVV"
      },
      "execution_count": 32,
      "outputs": []
    },
    {
      "cell_type": "code",
      "source": [
        "a"
      ],
      "metadata": {
        "colab": {
          "base_uri": "https://localhost:8080/"
        },
        "id": "8kdxzQXiRMOS",
        "outputId": "c3131f30-f2eb-46d2-aede-020dd85573d2"
      },
      "execution_count": 33,
      "outputs": [
        {
          "output_type": "execute_result",
          "data": {
            "text/plain": [
              "array([89, 69, 28, 38, 95, 88, 99, 54, 22, 25, 59, 77, 30, 54, 52])"
            ]
          },
          "metadata": {},
          "execution_count": 33
        }
      ]
    },
    {
      "cell_type": "code",
      "source": [
        "np.cumprod(a)"
      ],
      "metadata": {
        "colab": {
          "base_uri": "https://localhost:8080/"
        },
        "id": "5WGkAjfjRNOe",
        "outputId": "0de72867-ab01-45a7-fec4-e078a36b03b6"
      },
      "execution_count": 34,
      "outputs": [
        {
          "output_type": "execute_result",
          "data": {
            "text/plain": [
              "array([                  89,                 6141,               171948,\n",
              "                    6534024,            620732280,          54624440640,\n",
              "              5407819623360,      292022259661440,     6424489712551680,\n",
              "         160612242813792000, -8970621747695823616, -8208343845325008640,\n",
              "       -6442642401526088192,  2585447718072718336,  5316072823814492160])"
            ]
          },
          "metadata": {},
          "execution_count": 34
        }
      ]
    },
    {
      "cell_type": "markdown",
      "source": [
        "### np.percentile\n",
        "\n",
        "numpy.percentile()function used to compute the nth percentile of the given data (array elements) along the specified axis.\n",
        "\n",
        "https://numpy.org/doc/stable/reference/generated/numpy.percentile.html"
      ],
      "metadata": {
        "id": "SIuRwLMjcnOl"
      }
    },
    {
      "cell_type": "code",
      "source": [
        "a"
      ],
      "metadata": {
        "colab": {
          "base_uri": "https://localhost:8080/"
        },
        "id": "_o8iH4Evcl8C",
        "outputId": "e86e69c8-c1c7-4141-83e4-ad15d2af21bd"
      },
      "execution_count": 35,
      "outputs": [
        {
          "output_type": "execute_result",
          "data": {
            "text/plain": [
              "array([89, 69, 28, 38, 95, 88, 99, 54, 22, 25, 59, 77, 30, 54, 52])"
            ]
          },
          "metadata": {},
          "execution_count": 35
        }
      ]
    },
    {
      "cell_type": "code",
      "source": [
        "#NumPy তে percentile মানে হলো এমন একটি মান যা ডেটাসেটকে 100 সমান ভাগে ভাগ করলে নির্দিষ্ট শতাংশ ডেটা সেই মানের কম বা সমান হয়।\n",
        "np.percentile(a,50)"
      ],
      "metadata": {
        "colab": {
          "base_uri": "https://localhost:8080/"
        },
        "id": "gBH8ZvtrSND9",
        "outputId": "5ab46905-40e3-4f08-d515-2012013d2f07"
      },
      "execution_count": 36,
      "outputs": [
        {
          "output_type": "execute_result",
          "data": {
            "text/plain": [
              "np.float64(54.0)"
            ]
          },
          "metadata": {},
          "execution_count": 36
        }
      ]
    },
    {
      "cell_type": "code",
      "source": [
        "np.percentile(a,0)"
      ],
      "metadata": {
        "colab": {
          "base_uri": "https://localhost:8080/"
        },
        "id": "KLIhMJSTScTy",
        "outputId": "bbbde842-0980-4b04-ef0d-4245ddfd8171"
      },
      "execution_count": 37,
      "outputs": [
        {
          "output_type": "execute_result",
          "data": {
            "text/plain": [
              "np.float64(22.0)"
            ]
          },
          "metadata": {},
          "execution_count": 37
        }
      ]
    },
    {
      "cell_type": "markdown",
      "source": [
        "### np.histogram\n",
        "\n",
        "Numpy has a built-in numpy.histogram() function which represents the frequency of data distribution in the graphical form.\n",
        "\n",
        "https://numpy.org/doc/stable/reference/generated/numpy.histogram.html"
      ],
      "metadata": {
        "id": "2C6nGaJHev5N"
      }
    },
    {
      "cell_type": "code",
      "source": [
        "# code\n",
        "#NumPy তে histogram মানে হলো একটি ডেটাসেটকে interval বা bin এ ভাগ করে প্রতিটি bin-এ কতগুলো মান আছে তা গণনা করা।\n",
        "\n",
        "#এটা মূলত ডেটা distribution বোঝার জন্য ব্যবহৃত হয়।\n",
        "a"
      ],
      "metadata": {
        "colab": {
          "base_uri": "https://localhost:8080/"
        },
        "id": "S2pFLU5ZWuTx",
        "outputId": "87578e47-605c-4e5b-eb21-2ff8a3b805b4"
      },
      "execution_count": 38,
      "outputs": [
        {
          "output_type": "execute_result",
          "data": {
            "text/plain": [
              "array([89, 69, 28, 38, 95, 88, 99, 54, 22, 25, 59, 77, 30, 54, 52])"
            ]
          },
          "metadata": {},
          "execution_count": 38
        }
      ]
    },
    {
      "cell_type": "code",
      "source": [
        "np.histogram(a,bins=[0,10,20,30,40,50,60,70,80,90,100])"
      ],
      "metadata": {
        "colab": {
          "base_uri": "https://localhost:8080/"
        },
        "id": "wZlQuOFpSbE3",
        "outputId": "5f68b78b-6f95-4aab-f8c8-77e4b8c4c111"
      },
      "execution_count": 39,
      "outputs": [
        {
          "output_type": "execute_result",
          "data": {
            "text/plain": [
              "(array([0, 0, 3, 2, 0, 4, 1, 1, 2, 2]),\n",
              " array([  0,  10,  20,  30,  40,  50,  60,  70,  80,  90, 100]))"
            ]
          },
          "metadata": {},
          "execution_count": 39
        }
      ]
    },
    {
      "cell_type": "markdown",
      "source": [
        "### np.corrcoef\n",
        "\n",
        "Return Pearson product-moment correlation coefficients.\n",
        "\n",
        "https://numpy.org/doc/stable/reference/generated/numpy.corrcoef.html"
      ],
      "metadata": {
        "id": "JxgMS0Zef8oQ"
      }
    },
    {
      "cell_type": "markdown",
      "source": [
        "Correlation coefficient (r) এমন একটি মান যা দুইটি ভেরিয়েবল কতটা linear relationship এ আছে তা বোঝায়।\n",
        "এর মান -1 থেকে +1 এর মধ্যে থাকে:\n",
        "\n",
        "+1 → perfect positive correlation\n",
        "\n",
        "0 → no correlation\n",
        "\n",
        "-1 → perfect negative correlation"
      ],
      "metadata": {
        "id": "zfhT2QQ-yYUM"
      }
    },
    {
      "cell_type": "code",
      "source": [
        "salary=np.array([20000,40000,25000,35000,60000])\n",
        "experience=np.array([1,3,2,4,2])"
      ],
      "metadata": {
        "id": "ZAMnvEm5WyUp"
      },
      "execution_count": 40,
      "outputs": []
    },
    {
      "cell_type": "code",
      "source": [
        " np.corrcoef(salary,experience)"
      ],
      "metadata": {
        "colab": {
          "base_uri": "https://localhost:8080/"
        },
        "id": "MxU3i1uwyiHs",
        "outputId": "395689a0-6d87-4f6f-af01-4d24d4181cf1"
      },
      "execution_count": 41,
      "outputs": [
        {
          "output_type": "execute_result",
          "data": {
            "text/plain": [
              "array([[1.        , 0.25344572],\n",
              "       [0.25344572, 1.        ]])"
            ]
          },
          "metadata": {},
          "execution_count": 41
        }
      ]
    },
    {
      "cell_type": "markdown",
      "source": [
        "### np.isin\n",
        "\n",
        "With the help of numpy.isin() method, we can see that one array having values are checked in a different numpy array having different elements with different sizes.\n",
        "\n",
        "https://numpy.org/doc/stable/reference/generated/numpy.isin.html"
      ],
      "metadata": {
        "id": "Ot4h1PdGh-vI"
      }
    },
    {
      "cell_type": "code",
      "source": [
        "# code\n",
        "a"
      ],
      "metadata": {
        "colab": {
          "base_uri": "https://localhost:8080/"
        },
        "id": "oyyVo0qnW2Cz",
        "outputId": "0d9627f2-10cf-4fed-a63f-1125d0447052"
      },
      "execution_count": 42,
      "outputs": [
        {
          "output_type": "execute_result",
          "data": {
            "text/plain": [
              "array([89, 69, 28, 38, 95, 88, 99, 54, 22, 25, 59, 77, 30, 54, 52])"
            ]
          },
          "metadata": {},
          "execution_count": 42
        }
      ]
    },
    {
      "cell_type": "code",
      "source": [
        "items = [10,20,30,40,50,60,70,80,90,100]"
      ],
      "metadata": {
        "id": "lLA0c9z2VE3O"
      },
      "execution_count": 43,
      "outputs": []
    },
    {
      "cell_type": "code",
      "source": [
        "a[np.isin(a,items)]"
      ],
      "metadata": {
        "colab": {
          "base_uri": "https://localhost:8080/"
        },
        "id": "Yb2MQ6TczH6T",
        "outputId": "7f83b9d5-c7a2-4c01-f7d8-4818bd8d9ad0"
      },
      "execution_count": 44,
      "outputs": [
        {
          "output_type": "execute_result",
          "data": {
            "text/plain": [
              "array([30])"
            ]
          },
          "metadata": {},
          "execution_count": 44
        }
      ]
    },
    {
      "cell_type": "markdown",
      "source": [
        "### np.flip\n",
        "\n",
        "The numpy.flip() function reverses the order of array elements along the specified axis, preserving the shape of the array.\n",
        "\n",
        "https://numpy.org/doc/stable/reference/generated/numpy.flip.html"
      ],
      "metadata": {
        "id": "8VKXXRjmicT-"
      }
    },
    {
      "cell_type": "code",
      "source": [
        "# code\n",
        "a"
      ],
      "metadata": {
        "id": "lMreAl7yEvBa",
        "colab": {
          "base_uri": "https://localhost:8080/"
        },
        "outputId": "71adf44a-e964-4cd3-a097-ef04083408c5"
      },
      "execution_count": 45,
      "outputs": [
        {
          "output_type": "execute_result",
          "data": {
            "text/plain": [
              "array([89, 69, 28, 38, 95, 88, 99, 54, 22, 25, 59, 77, 30, 54, 52])"
            ]
          },
          "metadata": {},
          "execution_count": 45
        }
      ]
    },
    {
      "cell_type": "code",
      "source": [
        "np.flip(a)"
      ],
      "metadata": {
        "colab": {
          "base_uri": "https://localhost:8080/"
        },
        "id": "82l_pzDbVfNp",
        "outputId": "898b3a43-966f-4365-fc40-282a0adfd4a9"
      },
      "execution_count": 46,
      "outputs": [
        {
          "output_type": "execute_result",
          "data": {
            "text/plain": [
              "array([52, 54, 30, 77, 59, 25, 22, 54, 99, 88, 95, 38, 28, 69, 89])"
            ]
          },
          "metadata": {},
          "execution_count": 46
        }
      ]
    },
    {
      "cell_type": "code",
      "source": [
        "b"
      ],
      "metadata": {
        "colab": {
          "base_uri": "https://localhost:8080/"
        },
        "id": "7qJTAnX7zqec",
        "outputId": "99e1e5aa-608d-495a-e48c-08219d0aa829"
      },
      "execution_count": 47,
      "outputs": [
        {
          "output_type": "execute_result",
          "data": {
            "text/plain": [
              "array([[64, 16, 23, 80],\n",
              "       [ 5, 55, 76, 22],\n",
              "       [75, 79, 68, 57],\n",
              "       [65, 10, 94, 92],\n",
              "       [33, 46, 37, 31],\n",
              "       [42, 67, 12, 63]])"
            ]
          },
          "metadata": {},
          "execution_count": 47
        }
      ]
    },
    {
      "cell_type": "code",
      "source": [
        "np.flip(b)"
      ],
      "metadata": {
        "colab": {
          "base_uri": "https://localhost:8080/"
        },
        "id": "5Il4mNRNzllC",
        "outputId": "d1834249-d429-472e-85fa-b6f3bdf88378"
      },
      "execution_count": 48,
      "outputs": [
        {
          "output_type": "execute_result",
          "data": {
            "text/plain": [
              "array([[63, 12, 67, 42],\n",
              "       [31, 37, 46, 33],\n",
              "       [92, 94, 10, 65],\n",
              "       [57, 68, 79, 75],\n",
              "       [22, 76, 55,  5],\n",
              "       [80, 23, 16, 64]])"
            ]
          },
          "metadata": {},
          "execution_count": 48
        }
      ]
    },
    {
      "cell_type": "code",
      "source": [
        "np.flip(b,axis=0)"
      ],
      "metadata": {
        "colab": {
          "base_uri": "https://localhost:8080/"
        },
        "id": "nWp3PQ87Vkin",
        "outputId": "b0e0f97d-480b-47b1-c307-3b44e9dd3e0d"
      },
      "execution_count": 49,
      "outputs": [
        {
          "output_type": "execute_result",
          "data": {
            "text/plain": [
              "array([[42, 67, 12, 63],\n",
              "       [33, 46, 37, 31],\n",
              "       [65, 10, 94, 92],\n",
              "       [75, 79, 68, 57],\n",
              "       [ 5, 55, 76, 22],\n",
              "       [64, 16, 23, 80]])"
            ]
          },
          "metadata": {},
          "execution_count": 49
        }
      ]
    },
    {
      "cell_type": "code",
      "source": [
        "np.flip(b,axis=1)"
      ],
      "metadata": {
        "colab": {
          "base_uri": "https://localhost:8080/"
        },
        "id": "UOU3WOBwVm59",
        "outputId": "13b0bf6b-a365-42e2-9ded-55cc543e7df3"
      },
      "execution_count": 50,
      "outputs": [
        {
          "output_type": "execute_result",
          "data": {
            "text/plain": [
              "array([[80, 23, 16, 64],\n",
              "       [22, 76, 55,  5],\n",
              "       [57, 68, 79, 75],\n",
              "       [92, 94, 10, 65],\n",
              "       [31, 37, 46, 33],\n",
              "       [63, 12, 67, 42]])"
            ]
          },
          "metadata": {},
          "execution_count": 50
        }
      ]
    },
    {
      "cell_type": "markdown",
      "source": [
        "### np.put\n",
        "\n",
        "The numpy.put() function replaces specific elements of an array with given values of p_array. Array indexed works on flattened array.\n",
        "\n",
        "https://numpy.org/doc/stable/reference/generated/numpy.put.html"
      ],
      "metadata": {
        "id": "n7jTKF2QjIz4"
      }
    },
    {
      "cell_type": "code",
      "source": [
        "# code\n",
        "a"
      ],
      "metadata": {
        "id": "xZrJHzr0E0zN",
        "colab": {
          "base_uri": "https://localhost:8080/"
        },
        "outputId": "13bc59e9-3859-4c1a-905d-02eac25b9379"
      },
      "execution_count": 51,
      "outputs": [
        {
          "output_type": "execute_result",
          "data": {
            "text/plain": [
              "array([89, 69, 28, 38, 95, 88, 99, 54, 22, 25, 59, 77, 30, 54, 52])"
            ]
          },
          "metadata": {},
          "execution_count": 51
        }
      ]
    },
    {
      "cell_type": "code",
      "source": [
        "np.put(a,[0,1],[100,200])"
      ],
      "metadata": {
        "id": "dtl97d4SWHUG"
      },
      "execution_count": 52,
      "outputs": []
    },
    {
      "cell_type": "markdown",
      "source": [
        "### np.delete\n",
        "\n",
        "The numpy.delete() function returns a new array with the deletion of sub-arrays along with the mentioned axis.\n",
        "\n",
        "https://numpy.org/doc/stable/reference/generated/numpy.delete.html"
      ],
      "metadata": {
        "id": "lYkpJg3kpSWB"
      }
    },
    {
      "cell_type": "code",
      "source": [
        "# code\n",
        "a"
      ],
      "metadata": {
        "id": "VmGLdiy5pQXc",
        "colab": {
          "base_uri": "https://localhost:8080/"
        },
        "outputId": "fb9220a2-cbdf-459b-c5ba-4913add6ea1e"
      },
      "execution_count": 88,
      "outputs": [
        {
          "output_type": "execute_result",
          "data": {
            "text/plain": [
              "array([[1.       , 2.       ],\n",
              "       [3.       , 4.0000001]])"
            ]
          },
          "metadata": {},
          "execution_count": 88
        }
      ]
    },
    {
      "cell_type": "code",
      "source": [
        "np.delete(a,[0,2,4])"
      ],
      "metadata": {
        "colab": {
          "base_uri": "https://localhost:8080/"
        },
        "id": "A5Dp974mWeWd",
        "outputId": "0866370e-4da3-48dc-b674-499db038d8f6"
      },
      "execution_count": 54,
      "outputs": [
        {
          "output_type": "execute_result",
          "data": {
            "text/plain": [
              "array([200,  38,  88,  99,  54,  22,  25,  59,  77,  30,  54,  52])"
            ]
          },
          "metadata": {},
          "execution_count": 54
        }
      ]
    },
    {
      "cell_type": "markdown",
      "source": [
        "### Set functions\n",
        "\n",
        "- np.union1d\n",
        "- np.intersect1d\n",
        "- np.setdiff1d\n",
        "- np.setxor1d\n",
        "- np.in1d"
      ],
      "metadata": {
        "id": "Ei94MbFbrjvx"
      }
    },
    {
      "cell_type": "code",
      "source": [
        "m=np.array([1,2,3,4,5])\n",
        "n=np.array([3,4,5,6,7])\n",
        "np.union1d(m,n)"
      ],
      "metadata": {
        "id": "hHSwzU1irY0f",
        "colab": {
          "base_uri": "https://localhost:8080/"
        },
        "outputId": "7b1a4f16-267b-474c-b175-85c4b8b4d02b"
      },
      "execution_count": 63,
      "outputs": [
        {
          "output_type": "execute_result",
          "data": {
            "text/plain": [
              "array([1, 2, 3, 4, 5, 6, 7])"
            ]
          },
          "metadata": {},
          "execution_count": 63
        }
      ]
    },
    {
      "cell_type": "code",
      "source": [
        "np.intersect1d(m,n)"
      ],
      "metadata": {
        "id": "XSIuF3zWXZXP",
        "colab": {
          "base_uri": "https://localhost:8080/"
        },
        "outputId": "312fe2b3-6c87-49cc-cf18-3308add75a2c"
      },
      "execution_count": 64,
      "outputs": [
        {
          "output_type": "execute_result",
          "data": {
            "text/plain": [
              "array([3, 4, 5])"
            ]
          },
          "metadata": {},
          "execution_count": 64
        }
      ]
    },
    {
      "cell_type": "code",
      "source": [
        "np.setdiff1d(m,n)"
      ],
      "metadata": {
        "id": "HhGH8cskXgR5",
        "colab": {
          "base_uri": "https://localhost:8080/"
        },
        "outputId": "bd4fcccb-e69f-49c1-b2fe-071170dded48"
      },
      "execution_count": 65,
      "outputs": [
        {
          "output_type": "execute_result",
          "data": {
            "text/plain": [
              "array([1, 2])"
            ]
          },
          "metadata": {},
          "execution_count": 65
        }
      ]
    },
    {
      "cell_type": "code",
      "source": [
        "np.setxor1d(m,n)"
      ],
      "metadata": {
        "id": "KaZbcTk0XubR",
        "colab": {
          "base_uri": "https://localhost:8080/"
        },
        "outputId": "ef1b94fa-080c-48e0-8ae4-2a7fe60a602c"
      },
      "execution_count": 66,
      "outputs": [
        {
          "output_type": "execute_result",
          "data": {
            "text/plain": [
              "array([1, 2, 6, 7])"
            ]
          },
          "metadata": {},
          "execution_count": 66
        }
      ]
    },
    {
      "cell_type": "code",
      "source": [
        "np.in1d(m,1)"
      ],
      "metadata": {
        "id": "SqV9rpQ_XzVg",
        "colab": {
          "base_uri": "https://localhost:8080/"
        },
        "outputId": "62264c61-2a6c-40b6-fd71-2ef2cc98f871"
      },
      "execution_count": 67,
      "outputs": [
        {
          "output_type": "stream",
          "name": "stderr",
          "text": [
            "/tmp/ipython-input-3930963099.py:1: DeprecationWarning: `in1d` is deprecated. Use `np.isin` instead.\n",
            "  np.in1d(m,1)\n"
          ]
        },
        {
          "output_type": "execute_result",
          "data": {
            "text/plain": [
              "array([ True, False, False, False, False])"
            ]
          },
          "metadata": {},
          "execution_count": 67
        }
      ]
    },
    {
      "cell_type": "markdown",
      "source": [
        "### np.clip\n",
        "\n",
        "numpy.clip() function is used to Clip (limit) the values in an array.\n",
        "\n",
        "https://numpy.org/doc/stable/reference/generated/numpy.clip.html"
      ],
      "metadata": {
        "id": "uLxS7H2pr-rh"
      }
    },
    {
      "cell_type": "code",
      "source": [
        "# code\n",
        "r= np.random.randint(1,100,15)\n",
        "r.sort\n",
        "r"
      ],
      "metadata": {
        "id": "Q3S9gjNzsL73",
        "colab": {
          "base_uri": "https://localhost:8080/"
        },
        "outputId": "aa109151-714c-4178-ffb1-eb27be740480"
      },
      "execution_count": 92,
      "outputs": [
        {
          "output_type": "execute_result",
          "data": {
            "text/plain": [
              "array([ 1, 38, 77, 45,  2, 93, 44, 72, 76, 69, 35,  8, 76, 95, 17])"
            ]
          },
          "metadata": {},
          "execution_count": 92
        }
      ]
    },
    {
      "cell_type": "code",
      "source": [
        "np.clip(r,a_min=25,a_max=75)"
      ],
      "metadata": {
        "id": "x08JKAVHYOxF",
        "colab": {
          "base_uri": "https://localhost:8080/"
        },
        "outputId": "dc66810a-14ea-41a2-a817-72cce28fa363"
      },
      "execution_count": 93,
      "outputs": [
        {
          "output_type": "execute_result",
          "data": {
            "text/plain": [
              "array([25, 38, 75, 45, 25, 75, 44, 72, 75, 69, 35, 25, 75, 75, 25])"
            ]
          },
          "metadata": {},
          "execution_count": 93
        }
      ]
    },
    {
      "cell_type": "markdown",
      "source": [
        "#np.swapaxes"
      ],
      "metadata": {
        "id": "3TyBv_6eAulH"
      }
    },
    {
      "cell_type": "markdown",
      "source": [
        "when you want to exchange (swap) two axes (dimensions) of an array."
      ],
      "metadata": {
        "id": "voBI0tU9BEnY"
      }
    },
    {
      "cell_type": "code",
      "source": [
        "arr = np.array([[1, 2, 3],\n",
        "                [4, 5, 6]])\n",
        "\n",
        "print(\"Original shape:\", arr.shape)\n",
        "print(arr)\n",
        "\n",
        "swapped = np.swapaxes(arr, 0, 1)\n",
        "\n",
        "print(\"\\nAfter swapaxes(0, 1):\")\n",
        "print(\"New shape:\", swapped.shape)\n",
        "print(swapped)\n"
      ],
      "metadata": {
        "id": "INpvUpf9InGT",
        "colab": {
          "base_uri": "https://localhost:8080/"
        },
        "outputId": "3e4f6878-f91c-43b5-bfe3-e904bd0e9b59"
      },
      "execution_count": 68,
      "outputs": [
        {
          "output_type": "stream",
          "name": "stdout",
          "text": [
            "Original shape: (2, 3)\n",
            "[[1 2 3]\n",
            " [4 5 6]]\n",
            "\n",
            "After swapaxes(0, 1):\n",
            "New shape: (3, 2)\n",
            "[[1 4]\n",
            " [2 5]\n",
            " [3 6]]\n"
          ]
        }
      ]
    },
    {
      "cell_type": "markdown",
      "source": [
        "#np.uniform"
      ],
      "metadata": {
        "id": "Q4KH6LXkA-KH"
      }
    },
    {
      "cell_type": "markdown",
      "source": [
        "It generates random floating-point numbers from a uniform distribution.\n",
        "\n",
        "👉 Uniform distribution means every number in a given range has an equal chance of being selected."
      ],
      "metadata": {
        "id": "uVh_HlU6BrUV"
      }
    },
    {
      "cell_type": "code",
      "source": [
        "arr = np.random.uniform(-3, 3, size=5)\n",
        "print(arr)"
      ],
      "metadata": {
        "id": "AEFIFE1vJXDA",
        "colab": {
          "base_uri": "https://localhost:8080/"
        },
        "outputId": "fbcce471-f3a8-4575-aec4-9d6fa3e2cdc2"
      },
      "execution_count": 69,
      "outputs": [
        {
          "output_type": "stream",
          "name": "stdout",
          "text": [
            "[-1.90305793 -0.03547389 -0.8822008  -1.9388435  -0.03652583]\n"
          ]
        }
      ]
    },
    {
      "cell_type": "markdown",
      "source": [
        "#np.count_nonzero"
      ],
      "metadata": {
        "id": "Xk9vfolkB6q3"
      }
    },
    {
      "cell_type": "markdown",
      "source": [
        "np.count_nonzero(array) counts how many elements in the array are non-zero (i.e., not equal to 0 or False)."
      ],
      "metadata": {
        "id": "vl4IH_H8CMx4"
      }
    },
    {
      "cell_type": "code",
      "source": [
        "import numpy as np\n",
        "\n",
        "arr = np.array([0, 1, 2, 0, 3, 0, 4])\n",
        "\n",
        "print(np.count_nonzero(arr))\n"
      ],
      "metadata": {
        "id": "y7M0rggRKBIu",
        "colab": {
          "base_uri": "https://localhost:8080/"
        },
        "outputId": "412af0b9-e5fe-442f-960d-74620686ddb0"
      },
      "execution_count": 70,
      "outputs": [
        {
          "output_type": "stream",
          "name": "stdout",
          "text": [
            "4\n"
          ]
        }
      ]
    },
    {
      "cell_type": "code",
      "source": [
        "arr2 = np.array([[0, 1, 0],\n",
        "                 [2, 0, 3],\n",
        "                 [4, 5, 0]])\n",
        "\n",
        "print(np.count_nonzero(arr2))              # total count\n",
        "print(np.count_nonzero(arr2, axis=0))      # count column-wise\n",
        "print(np.count_nonzero(arr2, axis=1))      # count row-wise\n"
      ],
      "metadata": {
        "colab": {
          "base_uri": "https://localhost:8080/"
        },
        "id": "Oc5v60YDCRqp",
        "outputId": "f8899b2d-9a14-4f7c-8f10-54ecc81ffbb7"
      },
      "execution_count": 71,
      "outputs": [
        {
          "output_type": "stream",
          "name": "stdout",
          "text": [
            "5\n",
            "[2 2 1]\n",
            "[1 2 2]\n"
          ]
        }
      ]
    },
    {
      "cell_type": "markdown",
      "source": [
        "#np.tile"
      ],
      "metadata": {
        "id": "RDp46-NkCg3S"
      }
    },
    {
      "cell_type": "markdown",
      "source": [
        "Construct an array by repeating A the number of times given by reps.\n",
        " https://www.kaggle.com/code/abhayparashar31/best-numpy-functions-for-data-science-50?scriptVersionId=98816580"
      ],
      "metadata": {
        "id": "ryHVhoCDC-tu"
      }
    },
    {
      "cell_type": "code",
      "source": [
        "# 21. np.tile\n",
        "import numpy as np\n",
        "\n",
        "a = np.array([1, 2, 3])\n",
        "print(np.tile(a, 2))   # repeat twice\n",
        "print(np.tile(a, 3))   # repeat three times\n"
      ],
      "metadata": {
        "id": "Qy0-pdlOK9tC",
        "colab": {
          "base_uri": "https://localhost:8080/"
        },
        "outputId": "a75439b5-685f-4c10-c3d7-8a2492de1656"
      },
      "execution_count": 72,
      "outputs": [
        {
          "output_type": "stream",
          "name": "stdout",
          "text": [
            "[1 2 3 1 2 3]\n",
            "[1 2 3 1 2 3 1 2 3]\n"
          ]
        }
      ]
    },
    {
      "cell_type": "code",
      "source": [
        "b = np.array([[1, 2],\n",
        "              [3, 4]])\n",
        "\n",
        "print(np.tile(b, 2))       # repeat across columns\n",
        "print(np.tile(b, (2, 1)))  # repeat across rows\n",
        "print(np.tile(b, (2, 2)))  # repeat both rows & columns\n"
      ],
      "metadata": {
        "colab": {
          "base_uri": "https://localhost:8080/"
        },
        "id": "i6SDE_W_DKXG",
        "outputId": "f0f86d41-518e-4859-a64c-5fc223ba6be9"
      },
      "execution_count": 73,
      "outputs": [
        {
          "output_type": "stream",
          "name": "stdout",
          "text": [
            "[[1 2 1 2]\n",
            " [3 4 3 4]]\n",
            "[[1 2]\n",
            " [3 4]\n",
            " [1 2]\n",
            " [3 4]]\n",
            "[[1 2 1 2]\n",
            " [3 4 3 4]\n",
            " [1 2 1 2]\n",
            " [3 4 3 4]]\n"
          ]
        }
      ]
    },
    {
      "cell_type": "markdown",
      "source": [
        "# np.repeat"
      ],
      "metadata": {
        "id": "hXHJSxw5CexT"
      }
    },
    {
      "cell_type": "markdown",
      "source": [
        "np.repeat repeats elements of an array.\n",
        "https://towardsdatascience.com/10-numpy-functions-you-should-know-1dc4863764c5"
      ],
      "metadata": {
        "id": "wMavcMTdD8jl"
      }
    },
    {
      "cell_type": "code",
      "source": [
        "# 22. np.repeat\n",
        "import numpy as np\n",
        "\n",
        "a = np.array([1, 2, 3])\n",
        "print(np.repeat(a, 2))  # repeat each element 2 times\n"
      ],
      "metadata": {
        "id": "5DAEz6cbIdga",
        "colab": {
          "base_uri": "https://localhost:8080/"
        },
        "outputId": "d732387c-b9de-4383-a203-2ed0b7085bd7"
      },
      "execution_count": 74,
      "outputs": [
        {
          "output_type": "stream",
          "name": "stdout",
          "text": [
            "[1 1 2 2 3 3]\n"
          ]
        }
      ]
    },
    {
      "cell_type": "code",
      "source": [
        "a = np.array([10, 20, 30])\n",
        "print(np.repeat(a, [1, 2, 3]))\n"
      ],
      "metadata": {
        "colab": {
          "base_uri": "https://localhost:8080/"
        },
        "id": "Bo_v_ifAEIZt",
        "outputId": "0d1fc7a3-e454-416d-ce37-377c4fdc19aa"
      },
      "execution_count": 75,
      "outputs": [
        {
          "output_type": "stream",
          "name": "stdout",
          "text": [
            "[10 20 20 30 30 30]\n"
          ]
        }
      ]
    },
    {
      "cell_type": "code",
      "source": [
        "a = np.array([[1, 2], [3, 4]])\n",
        "print(np.repeat(a, 2))\n"
      ],
      "metadata": {
        "colab": {
          "base_uri": "https://localhost:8080/"
        },
        "id": "UDu6E_9LENz2",
        "outputId": "37ba5483-1150-4382-f002-79b91fecbac0"
      },
      "execution_count": 76,
      "outputs": [
        {
          "output_type": "stream",
          "name": "stdout",
          "text": [
            "[1 1 2 2 3 3 4 4]\n"
          ]
        }
      ]
    },
    {
      "cell_type": "code",
      "source": [
        "a = np.array([[1, 2], [3, 4]])\n",
        "print(np.repeat(a, 2, axis=0))\n"
      ],
      "metadata": {
        "colab": {
          "base_uri": "https://localhost:8080/"
        },
        "id": "ej2FIjeOETAn",
        "outputId": "04cf1aa5-c79b-4f99-87f7-be892ee2a670"
      },
      "execution_count": 77,
      "outputs": [
        {
          "output_type": "stream",
          "name": "stdout",
          "text": [
            "[[1 2]\n",
            " [1 2]\n",
            " [3 4]\n",
            " [3 4]]\n"
          ]
        }
      ]
    },
    {
      "cell_type": "code",
      "source": [
        "a = np.array([[1, 2], [3, 4]])\n",
        "print(np.repeat(a, 2, axis=1))\n"
      ],
      "metadata": {
        "colab": {
          "base_uri": "https://localhost:8080/"
        },
        "id": "ngb843qtEXI3",
        "outputId": "5529463d-79a8-4790-f537-80adddbaad1f"
      },
      "execution_count": 78,
      "outputs": [
        {
          "output_type": "stream",
          "name": "stdout",
          "text": [
            "[[1 1 2 2]\n",
            " [3 3 4 4]]\n"
          ]
        }
      ]
    },
    {
      "cell_type": "markdown",
      "source": [
        "#np.allclose and equals"
      ],
      "metadata": {
        "id": "C3nNLQMiEffx"
      }
    },
    {
      "cell_type": "markdown",
      "source": [
        "**np.allclose**\n",
        "\n",
        "Checks if two arrays are element-wise equal within a tolerance."
      ],
      "metadata": {
        "id": "KZXfXc1iEhlo"
      }
    },
    {
      "cell_type": "code",
      "source": [
        "# 25. np.allclose\n",
        "import numpy as np\n",
        "\n",
        "a = np.array([1.0, 2.0, 3.0000001])\n",
        "b = np.array([1.0, 2.0, 3.0])\n",
        "\n",
        "print(np.allclose(a, b))   # True (because difference is tiny)\n"
      ],
      "metadata": {
        "id": "DdLxDfsMNfz8",
        "colab": {
          "base_uri": "https://localhost:8080/"
        },
        "outputId": "5282666b-9497-4560-9844-d8a996a19e80"
      },
      "execution_count": 79,
      "outputs": [
        {
          "output_type": "stream",
          "name": "stdout",
          "text": [
            "True\n"
          ]
        }
      ]
    },
    {
      "cell_type": "code",
      "source": [
        "print(np.allclose(a, b, atol=1e-10))  # False (now tolerance is too strict)\n"
      ],
      "metadata": {
        "id": "IYClnmitOqTl",
        "colab": {
          "base_uri": "https://localhost:8080/"
        },
        "outputId": "4cb11381-2e78-4726-96ea-701f63b49cd4"
      },
      "execution_count": 80,
      "outputs": [
        {
          "output_type": "stream",
          "name": "stdout",
          "text": [
            "True\n"
          ]
        }
      ]
    },
    {
      "cell_type": "code",
      "source": [],
      "metadata": {
        "id": "nWJdTlHCoQip"
      },
      "execution_count": 62,
      "outputs": []
    },
    {
      "cell_type": "markdown",
      "source": [
        "**np.array_equals**\n",
        "\n",
        "Checks if two arrays are exactly the same (shape and values)."
      ],
      "metadata": {
        "id": "Bv_Fe_pwFSsn"
      }
    },
    {
      "cell_type": "code",
      "source": [
        "x = np.array([1.0, 2.0, 3.0000001])\n",
        "y = np.array([1.0, 2.0, 3.0])\n",
        "\n",
        "print(np.array_equal(x, y))  # False (not exactly equal)\n"
      ],
      "metadata": {
        "id": "KEkjJ5_owXc_",
        "colab": {
          "base_uri": "https://localhost:8080/"
        },
        "outputId": "d16fae91-112c-41c4-ddda-636483c21c01"
      },
      "execution_count": 81,
      "outputs": [
        {
          "output_type": "stream",
          "name": "stdout",
          "text": [
            "False\n"
          ]
        }
      ]
    },
    {
      "cell_type": "code",
      "source": [
        "import numpy as np\n",
        "\n",
        "a = np.array([[1.0, 2.0], [3.0, 4.0000001]])\n",
        "b = np.array([[1.0, 2.0], [3.0, 4.0]])\n",
        "\n",
        "print(\"2D allclose:\", np.allclose(a, b))      # ?\n",
        "print(\"2D array_equal:\", np.array_equal(a, b)) # ?\n"
      ],
      "metadata": {
        "id": "veZNJm8xB4D_",
        "colab": {
          "base_uri": "https://localhost:8080/"
        },
        "outputId": "a5e078c1-8e4d-40e1-b3ca-4a6d322664de"
      },
      "execution_count": 82,
      "outputs": [
        {
          "output_type": "stream",
          "name": "stdout",
          "text": [
            "2D allclose: True\n",
            "2D array_equal: False\n"
          ]
        }
      ]
    },
    {
      "cell_type": "code",
      "source": [
        "x = np.array([[[1.0, 2.0], [3.0, 4.00000001]]])\n",
        "y = np.array([[[1.0, 2.0], [3.0, 4.0]]])\n",
        "\n",
        "print(\"3D allclose:\", np.allclose(x, y))      # ?\n",
        "print(\"3D array_equal:\", np.array_equal(x, y)) # ?\n"
      ],
      "metadata": {
        "id": "iNBbQiDeNnZm",
        "colab": {
          "base_uri": "https://localhost:8080/"
        },
        "outputId": "3df4a8d2-ac87-4e34-fee5-806b2c0a8dea"
      },
      "execution_count": 84,
      "outputs": [
        {
          "output_type": "stream",
          "name": "stdout",
          "text": [
            "3D allclose: True\n",
            "3D array_equal: False\n"
          ]
        }
      ]
    },
    {
      "cell_type": "code",
      "source": [
        "m = np.array([[1, 2, 3]])\n",
        "n = np.array([1, 2, 3])\n",
        "\n",
        "print(np.allclose(m, n))      # ?\n",
        "print(np.array_equal(m, n))   # ?\n"
      ],
      "metadata": {
        "id": "B9F5ogZENohK",
        "colab": {
          "base_uri": "https://localhost:8080/"
        },
        "outputId": "dec22b28-a771-4b61-c533-07fe64d0c9b5"
      },
      "execution_count": 85,
      "outputs": [
        {
          "output_type": "stream",
          "name": "stdout",
          "text": [
            "True\n",
            "False\n"
          ]
        }
      ]
    }
  ]
}