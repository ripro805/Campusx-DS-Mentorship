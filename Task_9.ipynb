{
  "nbformat": 4,
  "nbformat_minor": 0,
  "metadata": {
    "colab": {
      "provenance": [],
      "collapsed_sections": [
        "BCleRtX43caS",
        "KBbGNTtQ47mJ",
        "ExIxsv4y-oEd",
        "OcQhJvXVALgp",
        "sEsGEqOHCSWG",
        "v1M5Yh9ZZO0z"
      ],
      "include_colab_link": true
    },
    "kernelspec": {
      "name": "python3",
      "display_name": "Python 3"
    },
    "language_info": {
      "name": "python"
    }
  },
  "cells": [
    {
      "cell_type": "markdown",
      "metadata": {
        "id": "view-in-github",
        "colab_type": "text"
      },
      "source": [
        "<a href=\"https://colab.research.google.com/github/ripro805/Campusx-DS-Mentorship/blob/main/Task_9.ipynb\" target=\"_parent\"><img src=\"https://colab.research.google.com/assets/colab-badge.svg\" alt=\"Open In Colab\"/></a>"
      ]
    },
    {
      "cell_type": "markdown",
      "source": [
        "### `Problem-1:` Class inheritence\n",
        "\n",
        "Create a **Bus** child class that inherits from the Vehicle class. The default fare charge of any vehicle is seating capacity * 100. If Vehicle is Bus instance, we need to add an extra 10% on full fare as a maintenance charge. So total fare for bus instance will become the final amount = total fare + 10% of the total fare.\n",
        "\n",
        "Note: The bus seating capacity is 50. so the final fare amount should be 5500. You need to override the fare() method of a Vehicle class in Bus class."
      ],
      "metadata": {
        "id": "BCleRtX43caS"
      }
    },
    {
      "cell_type": "code",
      "execution_count": 1,
      "metadata": {
        "colab": {
          "base_uri": "https://localhost:8080/"
        },
        "id": "6jVFCXKz3YZI",
        "outputId": "49b3a02e-b367-48f4-e30d-683ba9c66567"
      },
      "outputs": [
        {
          "output_type": "stream",
          "name": "stdout",
          "text": [
            "Total Bus Fare: 5500.0\n"
          ]
        }
      ],
      "source": [
        "# Write code here\n",
        "class Vehicle:\n",
        "    def __init__(self, capacity):\n",
        "        self.capacity = capacity\n",
        "\n",
        "    def fare(self):\n",
        "        return self.capacity * 100\n",
        "\n",
        "\n",
        "class Bus(Vehicle):\n",
        "    def fare(self):\n",
        "        base_fare = super().fare()  # Call parent class fare()\n",
        "        maintenance_charge = base_fare * 0.10\n",
        "        return base_fare + maintenance_charge\n",
        "bus = Bus(50)\n",
        "print(\"Total Bus Fare:\", bus.fare())\n"
      ]
    },
    {
      "cell_type": "markdown",
      "source": [
        "### `Problem-2:` Class Inheritence\n",
        "\n",
        "Create a Bus class that inherits from the Vehicle class. Give the capacity argument of *Bus.seating_capacity()* a default value of 50.\n",
        "\n",
        "Use the following code for your parent Vehicle class."
      ],
      "metadata": {
        "id": "KBbGNTtQ47mJ"
      }
    },
    {
      "cell_type": "code",
      "source": [
        "class Vehicle:\n",
        "    def __init__(self, name, capacity):\n",
        "        self.name = name\n",
        "        self.capacity = capacity\n",
        "\n",
        "    def seating_capacity(self, capacity):\n",
        "        return f\"The seating capacity of a {self.name} is {capacity} passengers.\"\n",
        "class Bus(Vehicle):\n",
        "    def seating_capacity(self, capacity=50):\n",
        "        return super().seating_capacity(capacity)\n"
      ],
      "metadata": {
        "id": "MwOnYE_14M-r"
      },
      "execution_count": 2,
      "outputs": []
    },
    {
      "cell_type": "code",
      "source": [
        "bus = Bus(\"School Bus\", 60)  # Even if initialized with 60, seating_capacity defaults to 50 unless given\n",
        "print(bus.seating_capacity())       # Uses default 50\n",
        "print(bus.seating_capacity(60))     # Explicitly uses 60\n"
      ],
      "metadata": {
        "id": "Py5Gr0ip5OBB",
        "colab": {
          "base_uri": "https://localhost:8080/"
        },
        "outputId": "aa3dbc36-19af-4245-ee2a-78d6b4a31f6f"
      },
      "execution_count": 3,
      "outputs": [
        {
          "output_type": "stream",
          "name": "stdout",
          "text": [
            "The seating capacity of a School Bus is 50 passengers.\n",
            "The seating capacity of a School Bus is 60 passengers.\n"
          ]
        }
      ]
    },
    {
      "cell_type": "markdown",
      "source": [
        "### `Problem-3:` Write a program that has a class Point. Define another class Location which has two objects (Location & Destination) of class Point. Also define a function in Location that prints the reflection of Destination on the x axis."
      ],
      "metadata": {
        "id": "ExIxsv4y-oEd"
      }
    },
    {
      "cell_type": "code",
      "source": [
        "class Point:\n",
        "    def __init__(self, x=0, y=0):\n",
        "        self.x = x\n",
        "        self.y = y\n",
        "\n",
        "    def display(self):\n",
        "        print(f\"({self.x}, {self.y})\")\n",
        "\n",
        "\n",
        "class Location:\n",
        "    def __init__(self, loc_x, loc_y, dest_x, dest_y):\n",
        "        self.location = Point(loc_x, loc_y)\n",
        "        self.destination = Point(dest_x, dest_y)\n",
        "\n",
        "    def reflect_destination_on_x(self):\n",
        "        reflected_point = Point(self.destination.x, -self.destination.y)\n",
        "        print(\"Reflection of Destination on X-axis:\")\n",
        "        reflected_point.display()\n",
        "loc = Location(2, 3, 4, 5)\n",
        "\n",
        "loc.reflect_destination_on_x()\n"
      ],
      "metadata": {
        "colab": {
          "base_uri": "https://localhost:8080/"
        },
        "id": "4fgo-6ydjHiu",
        "outputId": "84490039-58a1-4003-d407-f572ef903895"
      },
      "execution_count": 4,
      "outputs": [
        {
          "output_type": "stream",
          "name": "stdout",
          "text": [
            "Reflection of Destination on X-axis:\n",
            "(4, -5)\n"
          ]
        }
      ]
    },
    {
      "cell_type": "markdown",
      "source": [
        "### `Problem-4:` Write a program that has an abstract class Polygon. Derive two classes Rectangle and Triamgle from Polygon and write methods to get the details of their dimensions and hence calculate the area."
      ],
      "metadata": {
        "id": "OcQhJvXVALgp"
      }
    },
    {
      "cell_type": "code",
      "source": [
        "from abc import ABC, abstractmethod\n",
        "\n",
        "# Abstract Base Class\n",
        "class Polygon(ABC):\n",
        "\n",
        "    @abstractmethod\n",
        "    def get_dimensions(self):\n",
        "        pass\n",
        "\n",
        "    @abstractmethod\n",
        "    def area(self):\n",
        "        pass\n",
        "\n",
        "\n",
        "# Rectangle Class\n",
        "class Rectangle(Polygon):\n",
        "\n",
        "    def get_dimensions(self):\n",
        "        self.length = float(input(\"Enter length of the rectangle: \"))\n",
        "        self.breadth = float(input(\"Enter breadth of the rectangle: \"))\n",
        "\n",
        "    def area(self):\n",
        "        return self.length * self.breadth\n",
        "\n",
        "\n",
        "# Triangle Class\n",
        "class Triangle(Polygon):\n",
        "\n",
        "    def get_dimensions(self):\n",
        "        self.base = float(input(\"Enter base of the triangle: \"))\n",
        "        self.height = float(input(\"Enter height of the triangle: \"))\n",
        "\n",
        "    def area(self):\n",
        "        return 0.5 * self.base * self.height\n"
      ],
      "metadata": {
        "id": "9IMrtdUH__eA"
      },
      "execution_count": 5,
      "outputs": []
    },
    {
      "cell_type": "code",
      "source": [
        "# Rectangle\n",
        "rect = Rectangle()\n",
        "rect.get_dimensions()\n",
        "print(\"Area of Rectangle:\", rect.area())\n",
        "\n",
        "# Triangle\n",
        "tri = Triangle()\n",
        "tri.get_dimensions()\n",
        "print(\"Area of Triangle:\", tri.area())\n"
      ],
      "metadata": {
        "colab": {
          "base_uri": "https://localhost:8080/"
        },
        "id": "2i_RXLhfjU-Q",
        "outputId": "a1ebe41a-a73a-4738-ae86-a042e460a053"
      },
      "execution_count": 6,
      "outputs": [
        {
          "output_type": "stream",
          "name": "stdout",
          "text": [
            "Enter length of the rectangle: 4\n",
            "Enter breadth of the rectangle: 5\n",
            "Area of Rectangle: 20.0\n",
            "Enter base of the triangle: 3\n",
            "Enter height of the triangle: 4\n",
            "Area of Triangle: 6.0\n"
          ]
        }
      ]
    },
    {
      "cell_type": "markdown",
      "source": [
        "### `Problem-5:` Write a program with class Bill. The users have the option to pay the bill either by cheque or by cash. Use the inheritance to model this situation."
      ],
      "metadata": {
        "id": "sEsGEqOHCSWG"
      }
    },
    {
      "cell_type": "code",
      "source": [
        "class Bill:\n",
        "    def __init__(self, customer_name, amount):\n",
        "        self.customer_name = customer_name\n",
        "        self.amount = amount\n",
        "\n",
        "    def display_bill(self):\n",
        "        print(f\"Customer: {self.customer_name}\")\n",
        "        print(f\"Bill Amount: ₹{self.amount}\")\n",
        "\n",
        "\n",
        "class CashPayment(Bill):\n",
        "    def pay(self):\n",
        "        print(\"\\n--- Cash Payment ---\")\n",
        "        self.display_bill()\n",
        "        print(\"Payment Method: Cash\")\n",
        "        print(\"Status: Payment Successful\\n\")\n",
        "\n",
        "\n",
        "class ChequePayment(Bill):\n",
        "    def __init__(self, customer_name, amount, cheque_number, bank_name):\n",
        "        super().__init__(customer_name, amount)\n",
        "        self.cheque_number = cheque_number\n",
        "        self.bank_name = bank_name\n",
        "\n",
        "    def pay(self):\n",
        "        print(\"\\n--- Cheque Payment ---\")\n",
        "        self.display_bill()\n",
        "        print(f\"Payment Method: Cheque\")\n",
        "        print(f\"Cheque Number: {self.cheque_number}\")\n",
        "        print(f\"Bank Name: {self.bank_name}\")\n",
        "        print(\"Status: Payment Successful\\n\")\n"
      ],
      "metadata": {
        "id": "l0WFyP2PB3nf"
      },
      "execution_count": 7,
      "outputs": []
    },
    {
      "cell_type": "code",
      "source": [
        "# Paying by cash\n",
        "cash = CashPayment(\"Alice\", 1200)\n",
        "cash.pay()\n",
        "\n",
        "# Paying by cheque\n",
        "cheque = ChequePayment(\"Bob\", 2500, \"CHK12345\", \"State Bank of India\")\n",
        "cheque.pay()\n"
      ],
      "metadata": {
        "colab": {
          "base_uri": "https://localhost:8080/"
        },
        "id": "jnOctlA9jhYp",
        "outputId": "67620d07-d73f-4bbb-b0e6-07f705131507"
      },
      "execution_count": 8,
      "outputs": [
        {
          "output_type": "stream",
          "name": "stdout",
          "text": [
            "\n",
            "--- Cash Payment ---\n",
            "Customer: Alice\n",
            "Bill Amount: ₹1200\n",
            "Payment Method: Cash\n",
            "Status: Payment Successful\n",
            "\n",
            "\n",
            "--- Cheque Payment ---\n",
            "Customer: Bob\n",
            "Bill Amount: ₹2500\n",
            "Payment Method: Cheque\n",
            "Cheque Number: CHK12345\n",
            "Bank Name: State Bank of India\n",
            "Status: Payment Successful\n",
            "\n"
          ]
        }
      ]
    },
    {
      "cell_type": "markdown",
      "source": [
        "###`Q-6:` FlexibleDict\n",
        "As of now we are accessing values from dictionary with exact keys. Now we want to amend accessing values functionality. if a dict have key `1` (int) the even if we try to access values by giving `'1'` (1 as str) as key, we should get the same result and vice versa.\n",
        "\n",
        "Write a class `FlexibleDict` upon builtin `dict` class with above required functionality.\n",
        "\n",
        "Hint- `dict[key] => dict.__getitem__(key)`"
      ],
      "metadata": {
        "id": "v1M5Yh9ZZO0z"
      }
    },
    {
      "cell_type": "markdown",
      "source": [
        "Ex.\n",
        "```\n",
        "fd = FlexibleDict()\n",
        "fd['a'] = 100\n",
        "print(fd['a']) # Like regular dict\n",
        "\n",
        "fd[5] = 500\n",
        "print(fd[5]) # Like regular dict\n",
        "\n",
        "fd[1] = 100\n",
        "print(fd['1']) # actual Key is int but still trying to access through str key.\n",
        "fd['1'] = 100\n",
        "print(fd[1])\n",
        "\n",
        "```\n",
        "`Output:`\n",
        "```\n",
        "100\n",
        "500\n",
        "100\n",
        "100\n",
        "\n",
        "```"
      ],
      "metadata": {
        "id": "uajGeWegbfda"
      }
    },
    {
      "cell_type": "code",
      "source": [
        "class FlexibleDict(dict):\n",
        "    def __getitem__(self, key):\n",
        "        # Try original key\n",
        "        if key in self:\n",
        "            return super().__getitem__(key)\n",
        "        # Try alternate key type (int <-> str)\n",
        "        alt_key = self._alternate_key(key)\n",
        "        if alt_key in self:\n",
        "            return super().__getitem__(alt_key)\n",
        "        raise KeyError(key)\n",
        "\n",
        "    def __setitem__(self, key, value):\n",
        "        super().__setitem__(key, value)\n",
        "\n",
        "    def __contains__(self, key):\n",
        "        # Override \"in\" keyword behavior for compatibility\n",
        "        return super().__contains__(key) or super().__contains__(self._alternate_key(key))\n",
        "\n",
        "    def _alternate_key(self, key):\n",
        "        # Convert str <-> int if possible\n",
        "        if isinstance(key, int):\n",
        "            return str(key)\n",
        "        elif isinstance(key, str):\n",
        "            if key.isdigit():\n",
        "                return int(key)\n",
        "        return key\n"
      ],
      "metadata": {
        "id": "OHLbOtCxZ2nw"
      },
      "execution_count": 9,
      "outputs": []
    },
    {
      "cell_type": "code",
      "source": [
        "fd = FlexibleDict()\n",
        "\n",
        "fd['a'] = 100\n",
        "print(fd['a'])    # → 100\n",
        "\n",
        "fd[5] = 500\n",
        "print(fd[5])      # → 500\n",
        "\n",
        "fd[1] = 100\n",
        "print(fd['1'])    # → 100 (int key accessed via str)\n",
        "\n",
        "fd['1'] = 100\n",
        "print(fd[1])      # → 100 (str key overwritten int key)\n"
      ],
      "metadata": {
        "id": "7NM8r__dmeMf",
        "colab": {
          "base_uri": "https://localhost:8080/",
          "height": 367
        },
        "outputId": "14a4e37b-f178-4b93-9bd4-b598628bfea5"
      },
      "execution_count": 10,
      "outputs": [
        {
          "output_type": "stream",
          "name": "stdout",
          "text": [
            "100\n",
            "500\n"
          ]
        },
        {
          "output_type": "error",
          "ename": "KeyError",
          "evalue": "'1'",
          "traceback": [
            "\u001b[0;31m---------------------------------------------------------------------------\u001b[0m",
            "\u001b[0;31mKeyError\u001b[0m                                  Traceback (most recent call last)",
            "\u001b[0;32m/tmp/ipython-input-2855095470.py\u001b[0m in \u001b[0;36m<cell line: 0>\u001b[0;34m()\u001b[0m\n\u001b[1;32m      8\u001b[0m \u001b[0;34m\u001b[0m\u001b[0m\n\u001b[1;32m      9\u001b[0m \u001b[0mfd\u001b[0m\u001b[0;34m[\u001b[0m\u001b[0;36m1\u001b[0m\u001b[0;34m]\u001b[0m \u001b[0;34m=\u001b[0m \u001b[0;36m100\u001b[0m\u001b[0;34m\u001b[0m\u001b[0;34m\u001b[0m\u001b[0m\n\u001b[0;32m---> 10\u001b[0;31m \u001b[0mprint\u001b[0m\u001b[0;34m(\u001b[0m\u001b[0mfd\u001b[0m\u001b[0;34m[\u001b[0m\u001b[0;34m'1'\u001b[0m\u001b[0;34m]\u001b[0m\u001b[0;34m)\u001b[0m    \u001b[0;31m# → 100 (int key accessed via str)\u001b[0m\u001b[0;34m\u001b[0m\u001b[0;34m\u001b[0m\u001b[0m\n\u001b[0m\u001b[1;32m     11\u001b[0m \u001b[0;34m\u001b[0m\u001b[0m\n\u001b[1;32m     12\u001b[0m \u001b[0mfd\u001b[0m\u001b[0;34m[\u001b[0m\u001b[0;34m'1'\u001b[0m\u001b[0;34m]\u001b[0m \u001b[0;34m=\u001b[0m \u001b[0;36m100\u001b[0m\u001b[0;34m\u001b[0m\u001b[0;34m\u001b[0m\u001b[0m\n",
            "\u001b[0;32m/tmp/ipython-input-1852802785.py\u001b[0m in \u001b[0;36m__getitem__\u001b[0;34m(self, key)\u001b[0m\n\u001b[1;32m      3\u001b[0m         \u001b[0;31m# Try original key\u001b[0m\u001b[0;34m\u001b[0m\u001b[0;34m\u001b[0m\u001b[0m\n\u001b[1;32m      4\u001b[0m         \u001b[0;32mif\u001b[0m \u001b[0mkey\u001b[0m \u001b[0;32min\u001b[0m \u001b[0mself\u001b[0m\u001b[0;34m:\u001b[0m\u001b[0;34m\u001b[0m\u001b[0;34m\u001b[0m\u001b[0m\n\u001b[0;32m----> 5\u001b[0;31m             \u001b[0;32mreturn\u001b[0m \u001b[0msuper\u001b[0m\u001b[0;34m(\u001b[0m\u001b[0;34m)\u001b[0m\u001b[0;34m.\u001b[0m\u001b[0m__getitem__\u001b[0m\u001b[0;34m(\u001b[0m\u001b[0mkey\u001b[0m\u001b[0;34m)\u001b[0m\u001b[0;34m\u001b[0m\u001b[0;34m\u001b[0m\u001b[0m\n\u001b[0m\u001b[1;32m      6\u001b[0m         \u001b[0;31m# Try alternate key type (int <-> str)\u001b[0m\u001b[0;34m\u001b[0m\u001b[0;34m\u001b[0m\u001b[0m\n\u001b[1;32m      7\u001b[0m         \u001b[0malt_key\u001b[0m \u001b[0;34m=\u001b[0m \u001b[0mself\u001b[0m\u001b[0;34m.\u001b[0m\u001b[0m_alternate_key\u001b[0m\u001b[0;34m(\u001b[0m\u001b[0mkey\u001b[0m\u001b[0;34m)\u001b[0m\u001b[0;34m\u001b[0m\u001b[0;34m\u001b[0m\u001b[0m\n",
            "\u001b[0;31mKeyError\u001b[0m: '1'"
          ]
        }
      ]
    },
    {
      "cell_type": "code",
      "source": [],
      "metadata": {
        "id": "waHSud8Ymkz-"
      },
      "execution_count": null,
      "outputs": []
    }
  ]
}